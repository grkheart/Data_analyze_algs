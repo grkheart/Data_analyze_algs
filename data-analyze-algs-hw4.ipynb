{
 "cells": [
  {
   "cell_type": "code",
   "execution_count": 1,
   "id": "9f813cfc",
   "metadata": {
    "_cell_guid": "b1076dfc-b9ad-4769-8c92-a6c4dae69d19",
    "_uuid": "8f2839f25d086af736a60e9eeb907d3b93b6e0e5",
    "execution": {
     "iopub.execute_input": "2022-07-16T11:05:05.001992Z",
     "iopub.status.busy": "2022-07-16T11:05:05.001410Z",
     "iopub.status.idle": "2022-07-16T11:05:05.016557Z",
     "shell.execute_reply": "2022-07-16T11:05:05.015763Z"
    },
    "papermill": {
     "duration": 0.032103,
     "end_time": "2022-07-16T11:05:05.018716",
     "exception": false,
     "start_time": "2022-07-16T11:05:04.986613",
     "status": "completed"
    },
    "tags": []
   },
   "outputs": [],
   "source": [
    "# This Python 3 environment comes with many helpful analytics libraries installed\n",
    "# It is defined by the kaggle/python Docker image: https://github.com/kaggle/docker-python\n",
    "# For example, here's several helpful packages to load\n",
    "\n",
    "import numpy as np # linear algebra\n",
    "import pandas as pd # data processing, CSV file I/O (e.g. pd.read_csv)\n",
    "\n",
    "# Input data files are available in the read-only \"../input/\" directory\n",
    "# For example, running this (by clicking run or pressing Shift+Enter) will list all files under the input directory\n",
    "\n",
    "import os\n",
    "for dirname, _, filenames in os.walk('/kaggle/input'):\n",
    "    for filename in filenames:\n",
    "        print(os.path.join(dirname, filename))\n",
    "\n",
    "# You can write up to 20GB to the current directory (/kaggle/working/) that gets preserved as output when you create a version using \"Save & Run All\" \n",
    "# You can also write temporary files to /kaggle/temp/, but they won't be saved outside of the current session"
   ]
  },
  {
   "cell_type": "markdown",
   "id": "0e16389a",
   "metadata": {
    "papermill": {
     "duration": 0.011202,
     "end_time": "2022-07-16T11:05:05.041698",
     "exception": false,
     "start_time": "2022-07-16T11:05:05.030496",
     "status": "completed"
    },
    "tags": []
   },
   "source": [
    "### Задание №1\n",
    "\n",
    "Реализуйте дерево для задачи регрессии. Возьмите за основу дерево, реализованное в методичке, заменив механизм предсказания в листе на взятие среднего значения по выборке, и критерий Джини на дисперсию значений."
   ]
  },
  {
   "cell_type": "code",
   "execution_count": 2,
   "id": "b702b9e4",
   "metadata": {
    "execution": {
     "iopub.execute_input": "2022-07-16T11:05:05.067302Z",
     "iopub.status.busy": "2022-07-16T11:05:05.066555Z",
     "iopub.status.idle": "2022-07-16T11:05:06.226871Z",
     "shell.execute_reply": "2022-07-16T11:05:06.225637Z"
    },
    "papermill": {
     "duration": 1.176931,
     "end_time": "2022-07-16T11:05:06.230202",
     "exception": false,
     "start_time": "2022-07-16T11:05:05.053271",
     "status": "completed"
    },
    "tags": []
   },
   "outputs": [],
   "source": [
    "import matplotlib.pyplot as plt\n",
    "import random\n",
    "import numpy as np\n",
    "\n",
    "from sklearn import model_selection\n",
    "from matplotlib.colors import ListedColormap\n",
    "from sklearn import datasets\n",
    "\n",
    "%matplotlib inline"
   ]
  },
  {
   "cell_type": "code",
   "execution_count": 3,
   "id": "2047148e",
   "metadata": {
    "execution": {
     "iopub.execute_input": "2022-07-16T11:05:06.256134Z",
     "iopub.status.busy": "2022-07-16T11:05:06.255744Z",
     "iopub.status.idle": "2022-07-16T11:05:06.265673Z",
     "shell.execute_reply": "2022-07-16T11:05:06.264602Z"
    },
    "papermill": {
     "duration": 0.025943,
     "end_time": "2022-07-16T11:05:06.268245",
     "exception": false,
     "start_time": "2022-07-16T11:05:06.242302",
     "status": "completed"
    },
    "tags": []
   },
   "outputs": [],
   "source": [
    "# сгенерируем данные\n",
    "classification_data, classification_labels = datasets.make_classification(n_features = 2, n_informative = 2, \n",
    "                                                      n_classes = 2, n_redundant=0, \n",
    "                                                      n_clusters_per_class=1, random_state=5)\n"
   ]
  },
  {
   "cell_type": "code",
   "execution_count": 4,
   "id": "0dd978eb",
   "metadata": {
    "execution": {
     "iopub.execute_input": "2022-07-16T11:05:06.294828Z",
     "iopub.status.busy": "2022-07-16T11:05:06.294145Z",
     "iopub.status.idle": "2022-07-16T11:05:06.513874Z",
     "shell.execute_reply": "2022-07-16T11:05:06.512966Z"
    },
    "papermill": {
     "duration": 0.236387,
     "end_time": "2022-07-16T11:05:06.516526",
     "exception": false,
     "start_time": "2022-07-16T11:05:06.280139",
     "status": "completed"
    },
    "tags": []
   },
   "outputs": [
    {
     "data": {
      "text/plain": [
       "<matplotlib.collections.PathCollection at 0x7f74d1f05510>"
      ]
     },
     "execution_count": 4,
     "metadata": {},
     "output_type": "execute_result"
    },
    {
     "data": {
      "image/png": "[encoded data removed]",
      "text/plain": [
       "<Figure size 576x576 with 1 Axes>"
      ]
     },
     "metadata": {
      "needs_background": "light"
     },
     "output_type": "display_data"
    }
   ],
   "source": [
    "# визуализируем сгенерированные данные\n",
    "\n",
    "colors = ListedColormap(['red', 'blue'])\n",
    "light_colors = ListedColormap(['lightcoral', 'lightblue'])\n",
    "\n",
    "plt.figure(figsize=(8,8))\n",
    "plt.scatter(list(map(lambda x: x[0], classification_data)), list(map(lambda x: x[1], classification_data)), \n",
    "              c=classification_labels, cmap=colors)"
   ]
  },
  {
   "cell_type": "code",
   "execution_count": 5,
   "id": "160f9a2c",
   "metadata": {
    "execution": {
     "iopub.execute_input": "2022-07-16T11:05:06.545893Z",
     "iopub.status.busy": "2022-07-16T11:05:06.545278Z",
     "iopub.status.idle": "2022-07-16T11:05:06.550525Z",
     "shell.execute_reply": "2022-07-16T11:05:06.549735Z"
    },
    "papermill": {
     "duration": 0.022779,
     "end_time": "2022-07-16T11:05:06.552809",
     "exception": false,
     "start_time": "2022-07-16T11:05:06.530030",
     "status": "completed"
    },
    "tags": []
   },
   "outputs": [],
   "source": [
    "# Реализуем класс узла\n",
    "\n",
    "class Node:\n",
    "    \n",
    "    def __init__(self, index, t, true_branch, false_branch):\n",
    "        self.index = index  # индекс признака, по которому ведется сравнение с порогом в этом узле\n",
    "        self.t = t  # значение порога\n",
    "        self.true_branch = true_branch  # поддерево, удовлетворяющее условию в узле\n",
    "        self.false_branch = false_branch  # поддерево, не удовлетворяющее условию в узле"
   ]
  },
  {
   "cell_type": "code",
   "execution_count": 6,
   "id": "eb4debb2",
   "metadata": {
    "execution": {
     "iopub.execute_input": "2022-07-16T11:05:06.581227Z",
     "iopub.status.busy": "2022-07-16T11:05:06.580656Z",
     "iopub.status.idle": "2022-07-16T11:05:06.588759Z",
     "shell.execute_reply": "2022-07-16T11:05:06.587939Z"
    },
    "papermill": {
     "duration": 0.024499,
     "end_time": "2022-07-16T11:05:06.591005",
     "exception": false,
     "start_time": "2022-07-16T11:05:06.566506",
     "status": "completed"
    },
    "tags": []
   },
   "outputs": [],
   "source": [
    "# И класс терминального узла (листа)\n",
    "\n",
    "class Leaf:\n",
    "    \n",
    "    def __init__(self, data, labels):\n",
    "        self.data = data # значения признаков\n",
    "        self.labels = labels  # y_true\n",
    "        self.prediction = self.predict()  # y_pred\n",
    "        \n",
    "    def predict(self):\n",
    "        # подсчет количества объектов разных классов\n",
    "        classes = {}  # сформируем словарь \"класс: количество объектов\"\n",
    "        for label in self.labels:\n",
    "            if label not in classes:\n",
    "                classes[label] = 0\n",
    "            classes[label] += 1\n",
    "        #  найдем класс, количество объектов которого будет максимальным в этом листе и вернем его   \n",
    "        prediction = max(classes, key=classes.get)\n",
    "        return prediction"
   ]
  },
  {
   "cell_type": "code",
   "execution_count": 7,
   "id": "12ab23c5",
   "metadata": {
    "execution": {
     "iopub.execute_input": "2022-07-16T11:05:06.617276Z",
     "iopub.status.busy": "2022-07-16T11:05:06.616676Z",
     "iopub.status.idle": "2022-07-16T11:05:06.623332Z",
     "shell.execute_reply": "2022-07-16T11:05:06.622609Z"
    },
    "papermill": {
     "duration": 0.022653,
     "end_time": "2022-07-16T11:05:06.625603",
     "exception": false,
     "start_time": "2022-07-16T11:05:06.602950",
     "status": "completed"
    },
    "tags": []
   },
   "outputs": [],
   "source": [
    "# Расчет критерия Джини\n",
    "\n",
    "def gini(labels):\n",
    "    #  подсчет количества объектов разных классов\n",
    "    classes = {}\n",
    "    for label in labels:\n",
    "        if label not in classes:\n",
    "            classes[label] = 0\n",
    "        classes[label] += 1\n",
    "    \n",
    "    #  расчет критерия\n",
    "    impurity = 1     # \"impurity\" - \"нечистота\", степень неопределенности\n",
    "    for label in classes:\n",
    "        p = classes[label] / len(labels) # долю объектов класса в листе\n",
    "        impurity -= p ** 2 # Критерий Джини\n",
    "        \n",
    "    return impurity\n"
   ]
  },
  {
   "cell_type": "code",
   "execution_count": 8,
   "id": "fa85bed8",
   "metadata": {
    "execution": {
     "iopub.execute_input": "2022-07-16T11:05:06.651948Z",
     "iopub.status.busy": "2022-07-16T11:05:06.651330Z",
     "iopub.status.idle": "2022-07-16T11:05:06.657525Z",
     "shell.execute_reply": "2022-07-16T11:05:06.656750Z"
    },
    "papermill": {
     "duration": 0.022193,
     "end_time": "2022-07-16T11:05:06.659693",
     "exception": false,
     "start_time": "2022-07-16T11:05:06.637500",
     "status": "completed"
    },
    "tags": []
   },
   "outputs": [],
   "source": [
    "# Расчет качества\n",
    "\n",
    "def quality(left_labels, right_labels, current_gini):\n",
    "\n",
    "    # доля выборки, ушедшей в левое поддерево\n",
    "    p = float(left_labels.shape[0]) / (left_labels.shape[0] + right_labels.shape[0]) # для правого (1-p)\n",
    "    \n",
    "    return current_gini - p * gini(left_labels) - (1 - p) * gini(right_labels) # Функционал качества"
   ]
  },
  {
   "cell_type": "code",
   "execution_count": 9,
   "id": "d1946bc0",
   "metadata": {
    "execution": {
     "iopub.execute_input": "2022-07-16T11:05:06.686064Z",
     "iopub.status.busy": "2022-07-16T11:05:06.685104Z",
     "iopub.status.idle": "2022-07-16T11:05:06.692238Z",
     "shell.execute_reply": "2022-07-16T11:05:06.691361Z"
    },
    "papermill": {
     "duration": 0.023377,
     "end_time": "2022-07-16T11:05:06.694958",
     "exception": false,
     "start_time": "2022-07-16T11:05:06.671581",
     "status": "completed"
    },
    "tags": []
   },
   "outputs": [],
   "source": [
    "# Разбиение датасета в узле\n",
    "\n",
    "def split(data, labels, index, t):\n",
    "    \n",
    "    left = np.where(data[:, index] <= t)\n",
    "    right = np.where(data[:, index] > t)\n",
    "        \n",
    "    true_data = data[left]\n",
    "    false_data = data[right]\n",
    "    true_labels = labels[left]\n",
    "    false_labels = labels[right]\n",
    "        \n",
    "    return true_data, false_data, true_labels, false_labels"
   ]
  },
  {
   "cell_type": "code",
   "execution_count": 10,
   "id": "e8b06d01",
   "metadata": {
    "execution": {
     "iopub.execute_input": "2022-07-16T11:05:06.722377Z",
     "iopub.status.busy": "2022-07-16T11:05:06.721970Z",
     "iopub.status.idle": "2022-07-16T11:05:06.732295Z",
     "shell.execute_reply": "2022-07-16T11:05:06.731053Z"
    },
    "papermill": {
     "duration": 0.027052,
     "end_time": "2022-07-16T11:05:06.734797",
     "exception": false,
     "start_time": "2022-07-16T11:05:06.707745",
     "status": "completed"
    },
    "tags": []
   },
   "outputs": [],
   "source": [
    "# Нахождение наилучшего разбиения\n",
    "\n",
    "def find_best_split(data, labels):\n",
    "    \n",
    "    #  обозначим минимальное количество объектов в узле\n",
    "    min_leaf = 5\n",
    "\n",
    "    current_gini = gini(labels) \n",
    "\n",
    "    best_quality = 0\n",
    "    best_t = None # лучший порог разбиения\n",
    "    best_index = None # лучший индекс разбиения\n",
    "    \n",
    "    n_features = data.shape[1] # кол-во признаков\n",
    "    \n",
    "    for index in range(n_features): # проход по всем признакам\n",
    "        t_values = [row[index] for row in data] # берем столбец/признак с соотв. индексом\n",
    "        \n",
    "        for t in t_values: # проход по признаку\n",
    "            true_data, false_data, true_labels, false_labels = split(data, labels, index, t) # делаем разбиение\n",
    "            #  пропускаем разбиения, в которых в узле остается менее 5 объектов\n",
    "            if len(true_data) < min_leaf or len(false_data) < min_leaf:\n",
    "                continue # начинаем следующий проход цикла, минуя оставшееся тело цикла\n",
    "            \n",
    "            # расчет качества текущего разбиения\n",
    "            current_quality = quality(true_labels, false_labels, current_gini)\n",
    "            \n",
    "            #  выбираем порог, на котором получается максимальный прирост качества\n",
    "            if current_quality > best_quality:\n",
    "                best_quality, best_t, best_index = current_quality, t, index\n",
    "\n",
    "    return best_quality, best_t, best_index"
   ]
  },
  {
   "cell_type": "code",
   "execution_count": 11,
   "id": "6d5fc911",
   "metadata": {
    "execution": {
     "iopub.execute_input": "2022-07-16T11:05:06.763991Z",
     "iopub.status.busy": "2022-07-16T11:05:06.762568Z",
     "iopub.status.idle": "2022-07-16T11:05:06.772521Z",
     "shell.execute_reply": "2022-07-16T11:05:06.771075Z"
    },
    "papermill": {
     "duration": 0.02744,
     "end_time": "2022-07-16T11:05:06.775136",
     "exception": false,
     "start_time": "2022-07-16T11:05:06.747696",
     "status": "completed"
    },
    "tags": []
   },
   "outputs": [],
   "source": [
    "# Построение дерева с помощью рекурсивной функции\n",
    "\n",
    "def build_tree(data, labels):\n",
    "\n",
    "    quality, t, index = find_best_split(data, labels) # ищем лучшее разбиение\n",
    "#     print(quality, t, index)\n",
    "\n",
    "    #  Базовый случай - прекращаем рекурсию, когда нет прироста в качества\n",
    "    # неопределенность после разбиения осталась такой же как до\n",
    "    if quality == 0: # критерий останова\n",
    "#         print('leaf')\n",
    "        return Leaf(data, labels) # считаем прогноз для листьев\n",
    "\n",
    "    # если качество улучшилось, то делим дерево по лучшему разбиению\n",
    "    true_data, false_data, true_labels, false_labels = split(data, labels, index, t)\n",
    "\n",
    "    # Рекурсивно строим два поддерева\n",
    "    true_branch = build_tree(true_data, true_labels)\n",
    "    false_branch = build_tree(false_data, false_labels)\n",
    "\n",
    "    # Возвращаем класс узла со всеми поддеревьями, то есть целого дерева\n",
    "    return Node(index, t, true_branch, false_branch)"
   ]
  },
  {
   "cell_type": "code",
   "execution_count": 12,
   "id": "20deccaa",
   "metadata": {
    "execution": {
     "iopub.execute_input": "2022-07-16T11:05:06.803230Z",
     "iopub.status.busy": "2022-07-16T11:05:06.802381Z",
     "iopub.status.idle": "2022-07-16T11:05:06.809057Z",
     "shell.execute_reply": "2022-07-16T11:05:06.808006Z"
    },
    "papermill": {
     "duration": 0.023376,
     "end_time": "2022-07-16T11:05:06.811202",
     "exception": false,
     "start_time": "2022-07-16T11:05:06.787826",
     "status": "completed"
    },
    "tags": []
   },
   "outputs": [],
   "source": [
    "# Проход объекта по дереву для его классификации\n",
    "\n",
    "def classify_object(obj, node):\n",
    "\n",
    "    #  Останавливаем рекурсию, если достигли листа\n",
    "    if isinstance(node, Leaf): # проверка текущий узел это лист?\n",
    "        answer = node.prediction # считаем прогноз для листа\n",
    "        return answer\n",
    "\n",
    "    if obj[node.index] <= node.t: # если значение признака меньше порога t\n",
    "        return classify_object(obj, node.true_branch) # рекурсия: отправляем объект в true-ветку\n",
    "    else:\n",
    "        return classify_object(obj, node.false_branch) # рекурсия: отправляем объект в false-ветку"
   ]
  },
  {
   "cell_type": "code",
   "execution_count": 13,
   "id": "3d424229",
   "metadata": {
    "execution": {
     "iopub.execute_input": "2022-07-16T11:05:06.837660Z",
     "iopub.status.busy": "2022-07-16T11:05:06.836902Z",
     "iopub.status.idle": "2022-07-16T11:05:06.842331Z",
     "shell.execute_reply": "2022-07-16T11:05:06.841586Z"
    },
    "papermill": {
     "duration": 0.021251,
     "end_time": "2022-07-16T11:05:06.844358",
     "exception": false,
     "start_time": "2022-07-16T11:05:06.823107",
     "status": "completed"
    },
    "tags": []
   },
   "outputs": [],
   "source": [
    "# Предсказание деревом для всего датасета\n",
    "\n",
    "def predict(data, tree):\n",
    "    \n",
    "    classes = []\n",
    "    for obj in data:\n",
    "        prediction = classify_object(obj, tree) # определяем ветки для объектов\n",
    "        classes.append(prediction)\n",
    "    return classes"
   ]
  },
  {
   "cell_type": "code",
   "execution_count": 14,
   "id": "9f7a828d",
   "metadata": {
    "execution": {
     "iopub.execute_input": "2022-07-16T11:05:06.870597Z",
     "iopub.status.busy": "2022-07-16T11:05:06.869883Z",
     "iopub.status.idle": "2022-07-16T11:05:06.875670Z",
     "shell.execute_reply": "2022-07-16T11:05:06.874706Z"
    },
    "papermill": {
     "duration": 0.021571,
     "end_time": "2022-07-16T11:05:06.878050",
     "exception": false,
     "start_time": "2022-07-16T11:05:06.856479",
     "status": "completed"
    },
    "tags": []
   },
   "outputs": [],
   "source": [
    "# Разобьем выборку на обучающую и тестовую\n",
    "train_data, test_data, train_labels, test_labels = model_selection.train_test_split(classification_data, \n",
    "                                                                                     classification_labels, \n",
    "                                                                                     test_size = 0.3,\n",
    "                                                                                     random_state = 1)"
   ]
  },
  {
   "cell_type": "code",
   "execution_count": 15,
   "id": "9ce14002",
   "metadata": {
    "execution": {
     "iopub.execute_input": "2022-07-16T11:05:06.904707Z",
     "iopub.status.busy": "2022-07-16T11:05:06.904022Z",
     "iopub.status.idle": "2022-07-16T11:05:06.936105Z",
     "shell.execute_reply": "2022-07-16T11:05:06.934711Z"
    },
    "papermill": {
     "duration": 0.047993,
     "end_time": "2022-07-16T11:05:06.938164",
     "exception": false,
     "start_time": "2022-07-16T11:05:06.890171",
     "status": "completed"
    },
    "tags": []
   },
   "outputs": [
    {
     "name": "stdout",
     "output_type": "stream",
     "text": [
      "<__main__.Node object at 0x7f74d1e0f6d0>\n"
     ]
    },
    {
     "data": {
      "text/plain": [
       "0"
      ]
     },
     "metadata": {},
     "output_type": "display_data"
    },
    {
     "data": {
      "text/plain": [
       "0.16261402870113306"
      ]
     },
     "metadata": {},
     "output_type": "display_data"
    },
    {
     "data": {
      "text/plain": [
       "<__main__.Node at 0x7f74d1e0f5d0>"
      ]
     },
     "metadata": {},
     "output_type": "display_data"
    },
    {
     "data": {
      "text/plain": [
       "<__main__.Leaf at 0x7f74d1e0f610>"
      ]
     },
     "metadata": {},
     "output_type": "display_data"
    }
   ],
   "source": [
    "# Построим дерево по обучающей выборке\n",
    "my_tree = build_tree(train_data, train_labels)\n",
    "print(my_tree)\n",
    "display(my_tree.index, my_tree.t, my_tree.true_branch , my_tree.false_branch)"
   ]
  },
  {
   "cell_type": "code",
   "execution_count": 16,
   "id": "ec30d2df",
   "metadata": {
    "execution": {
     "iopub.execute_input": "2022-07-16T11:05:06.965757Z",
     "iopub.status.busy": "2022-07-16T11:05:06.965368Z",
     "iopub.status.idle": "2022-07-16T11:05:06.973206Z",
     "shell.execute_reply": "2022-07-16T11:05:06.972296Z"
    },
    "papermill": {
     "duration": 0.025062,
     "end_time": "2022-07-16T11:05:06.975730",
     "exception": false,
     "start_time": "2022-07-16T11:05:06.950668",
     "status": "completed"
    },
    "tags": []
   },
   "outputs": [
    {
     "name": "stdout",
     "output_type": "stream",
     "text": [
      "Индекс 0\n",
      "Порог 0.16261402870113306\n",
      "--> True:\n",
      "  Индекс 1\n",
      "  Порог -1.5208896621663803\n",
      "  --> True:\n",
      "    Индекс 0\n",
      "    Порог -0.9478301462477035\n",
      "    --> True:\n",
      "      Прогноз: 0\n",
      "    --> False:\n",
      "      Прогноз: 1\n",
      "  --> False:\n",
      "    Прогноз: 0\n",
      "--> False:\n",
      "  Прогноз: 1\n"
     ]
    }
   ],
   "source": [
    "# Напечатаем ход нашего дерева\n",
    "def print_tree(node, spacing=\"\"):\n",
    "\n",
    "    # Если лист, то выводим его прогноз\n",
    "    if isinstance(node, Leaf):\n",
    "        print(spacing + \"Прогноз:\", node.prediction)\n",
    "        return\n",
    "\n",
    "    # Выведем значение индекса и порога на этом узле\n",
    "    print(spacing + 'Индекс', str(node.index))\n",
    "    print(spacing + 'Порог', str(node.t))\n",
    "\n",
    "    # Рекурсионный вызов функции на положительном поддереве\n",
    "    print (spacing + '--> True:')\n",
    "    print_tree(node.true_branch, spacing + \"  \")\n",
    "\n",
    "    # Рекурсионный вызов функции на отрицательном поддереве\n",
    "    print (spacing + '--> False:')\n",
    "    print_tree(node.false_branch, spacing + \"  \")\n",
    "    \n",
    "print_tree(my_tree)"
   ]
  },
  {
   "cell_type": "code",
   "execution_count": 17,
   "id": "8f52c53a",
   "metadata": {
    "execution": {
     "iopub.execute_input": "2022-07-16T11:05:07.003925Z",
     "iopub.status.busy": "2022-07-16T11:05:07.003563Z",
     "iopub.status.idle": "2022-07-16T11:05:07.009853Z",
     "shell.execute_reply": "2022-07-16T11:05:07.008953Z"
    },
    "papermill": {
     "duration": 0.02274,
     "end_time": "2022-07-16T11:05:07.011821",
     "exception": false,
     "start_time": "2022-07-16T11:05:06.989081",
     "status": "completed"
    },
    "tags": []
   },
   "outputs": [
    {
     "data": {
      "text/plain": [
       "[1, 1, 0, 0, 1]"
      ]
     },
     "execution_count": 17,
     "metadata": {},
     "output_type": "execute_result"
    }
   ],
   "source": [
    "# Получим ответы для обучающей выборки \n",
    "train_answers = predict(train_data, my_tree)\n",
    "train_answers[:5]"
   ]
  },
  {
   "cell_type": "code",
   "execution_count": 18,
   "id": "46b2d17c",
   "metadata": {
    "execution": {
     "iopub.execute_input": "2022-07-16T11:05:07.040273Z",
     "iopub.status.busy": "2022-07-16T11:05:07.039475Z",
     "iopub.status.idle": "2022-07-16T11:05:07.044039Z",
     "shell.execute_reply": "2022-07-16T11:05:07.043223Z"
    },
    "papermill": {
     "duration": 0.021363,
     "end_time": "2022-07-16T11:05:07.046221",
     "exception": false,
     "start_time": "2022-07-16T11:05:07.024858",
     "status": "completed"
    },
    "tags": []
   },
   "outputs": [],
   "source": [
    "# И получим ответы для тестовой выборки\n",
    "answers = predict(test_data, my_tree)"
   ]
  },
  {
   "cell_type": "code",
   "execution_count": 19,
   "id": "71ba5d74",
   "metadata": {
    "execution": {
     "iopub.execute_input": "2022-07-16T11:05:07.074289Z",
     "iopub.status.busy": "2022-07-16T11:05:07.073604Z",
     "iopub.status.idle": "2022-07-16T11:05:07.079371Z",
     "shell.execute_reply": "2022-07-16T11:05:07.078479Z"
    },
    "papermill": {
     "duration": 0.022321,
     "end_time": "2022-07-16T11:05:07.081595",
     "exception": false,
     "start_time": "2022-07-16T11:05:07.059274",
     "status": "completed"
    },
    "tags": []
   },
   "outputs": [],
   "source": [
    "# Введем функцию подсчета точности как доли правильных ответов\n",
    "def accuracy_metric(actual, predicted):\n",
    "    correct = 0\n",
    "    for i in range(len(actual)):\n",
    "        if actual[i] == predicted[i]:\n",
    "            correct += 1\n",
    "    return correct / float(len(actual)) * 100.0"
   ]
  },
  {
   "cell_type": "code",
   "execution_count": 20,
   "id": "0f15ab85",
   "metadata": {
    "execution": {
     "iopub.execute_input": "2022-07-16T11:05:07.110152Z",
     "iopub.status.busy": "2022-07-16T11:05:07.109477Z",
     "iopub.status.idle": "2022-07-16T11:05:07.116213Z",
     "shell.execute_reply": "2022-07-16T11:05:07.115032Z"
    },
    "papermill": {
     "duration": 0.02334,
     "end_time": "2022-07-16T11:05:07.118266",
     "exception": false,
     "start_time": "2022-07-16T11:05:07.094926",
     "status": "completed"
    },
    "tags": []
   },
   "outputs": [
    {
     "data": {
      "text/plain": [
       "98.57142857142858"
      ]
     },
     "execution_count": 20,
     "metadata": {},
     "output_type": "execute_result"
    }
   ],
   "source": [
    "# Точность на обучающей выборке\n",
    "train_accuracy = accuracy_metric(train_labels, train_answers)\n",
    "train_accuracy"
   ]
  },
  {
   "cell_type": "code",
   "execution_count": 21,
   "id": "1a88f9a9",
   "metadata": {
    "execution": {
     "iopub.execute_input": "2022-07-16T11:05:07.146827Z",
     "iopub.status.busy": "2022-07-16T11:05:07.146046Z",
     "iopub.status.idle": "2022-07-16T11:05:07.152915Z",
     "shell.execute_reply": "2022-07-16T11:05:07.151848Z"
    },
    "papermill": {
     "duration": 0.023846,
     "end_time": "2022-07-16T11:05:07.155117",
     "exception": false,
     "start_time": "2022-07-16T11:05:07.131271",
     "status": "completed"
    },
    "tags": []
   },
   "outputs": [
    {
     "data": {
      "text/plain": [
       "100.0"
      ]
     },
     "execution_count": 21,
     "metadata": {},
     "output_type": "execute_result"
    }
   ],
   "source": [
    "# Точность на тестовой выборке\n",
    "test_accuracy = accuracy_metric(test_labels, answers)\n",
    "test_accuracy"
   ]
  },
  {
   "cell_type": "code",
   "execution_count": 22,
   "id": "924dafb1",
   "metadata": {
    "execution": {
     "iopub.execute_input": "2022-07-16T11:05:07.184651Z",
     "iopub.status.busy": "2022-07-16T11:05:07.184230Z",
     "iopub.status.idle": "2022-07-16T11:05:07.573692Z",
     "shell.execute_reply": "2022-07-16T11:05:07.572659Z"
    },
    "papermill": {
     "duration": 0.407014,
     "end_time": "2022-07-16T11:05:07.576181",
     "exception": false,
     "start_time": "2022-07-16T11:05:07.169167",
     "status": "completed"
    },
    "tags": []
   },
   "outputs": [
    {
     "data": {
      "text/plain": [
       "Text(0.5, 1.0, 'Test accuracy=100.00')"
      ]
     },
     "execution_count": 22,
     "metadata": {},
     "output_type": "execute_result"
    },
    {
     "data": {
      "image/png": "[encoded data removed]",
      "text/plain": [
       "<Figure size 1152x504 with 2 Axes>"
      ]
     },
     "metadata": {
      "needs_background": "light"
     },
     "output_type": "display_data"
    }
   ],
   "source": [
    "# Визуализируем дерево на графике\n",
    "\n",
    "def get_meshgrid(data, step=.05, border=1.2):\n",
    "    x_min, x_max = data[:, 0].min() - border, data[:, 0].max() + border\n",
    "    y_min, y_max = data[:, 1].min() - border, data[:, 1].max() + border\n",
    "    return np.meshgrid(np.arange(x_min, x_max, step), np.arange(y_min, y_max, step)) # список массивов координатных сеток\n",
    "\n",
    "plt.figure(figsize = (16, 7))\n",
    "\n",
    "# график обучающей выборки\n",
    "plt.subplot(1,2,1)\n",
    "xx, yy = get_meshgrid(train_data)\n",
    "mesh_predictions = np.array(predict(np.c_[xx.ravel(), yy.ravel()], my_tree)).reshape(xx.shape) # определяем цвета квадратов в сетке\n",
    "plt.pcolormesh(xx, yy, mesh_predictions, cmap = light_colors)\n",
    "plt.scatter(train_data[:, 0], train_data[:, 1], c = train_labels, cmap = colors)\n",
    "plt.title(f'Train accuracy={train_accuracy:.2f}')\n",
    "\n",
    "# график тестовой выборки\n",
    "plt.subplot(1,2,2)\n",
    "plt.pcolormesh(xx, yy, mesh_predictions, cmap = light_colors)\n",
    "plt.scatter(test_data[:, 0], test_data[:, 1], c = test_labels, cmap = colors)\n",
    "plt.title(f'Test accuracy={test_accuracy:.2f}')"
   ]
  },
  {
   "cell_type": "markdown",
   "id": "ca7a583a",
   "metadata": {
    "papermill": {
     "duration": 0.014228,
     "end_time": "2022-07-16T11:05:07.604940",
     "exception": false,
     "start_time": "2022-07-16T11:05:07.590712",
     "status": "completed"
    },
    "tags": []
   },
   "source": [
    "#### **Реализуем критерии останова**"
   ]
  },
  {
   "cell_type": "markdown",
   "id": "ae3c7972",
   "metadata": {
    "papermill": {
     "duration": 0.013969,
     "end_time": "2022-07-16T11:05:07.633958",
     "exception": false,
     "start_time": "2022-07-16T11:05:07.619989",
     "status": "completed"
    },
    "tags": []
   },
   "source": [
    "**Количество деревьев**"
   ]
  },
  {
   "cell_type": "code",
   "execution_count": 23,
   "id": "70d7c2b3",
   "metadata": {
    "execution": {
     "iopub.execute_input": "2022-07-16T11:05:07.664797Z",
     "iopub.status.busy": "2022-07-16T11:05:07.664186Z",
     "iopub.status.idle": "2022-07-16T11:05:07.672321Z",
     "shell.execute_reply": "2022-07-16T11:05:07.671164Z"
    },
    "papermill": {
     "duration": 0.026078,
     "end_time": "2022-07-16T11:05:07.674592",
     "exception": false,
     "start_time": "2022-07-16T11:05:07.648514",
     "status": "completed"
    },
    "tags": []
   },
   "outputs": [],
   "source": [
    "def build_tree(data, labels, max_leaves=10, depth=0, n_leaves=0):\n",
    "    \n",
    "    quality, t, index = find_best_split(data, labels) # ищем лучшее разбиение\n",
    "#     print(quality, t, index)\n",
    "\n",
    "    #  Базовый случай - прекращаем рекурсию, когда нет прироста в качества\n",
    "    # неопределенность после разбиения осталась такой же как до\n",
    "    if quality == 0 or n_leaves >= max_leaves - 1 or depth >= max_leaves - 1: # критерий останова\n",
    "#         print('leaf')\n",
    "        n_leaves += 1\n",
    "        return Leaf(data, labels) # считаем прогноз для листьев\n",
    "\n",
    "    depth += 1\n",
    "    \n",
    "    # если качество улучшилось, то делим дерево по лучшему разбиению\n",
    "    true_data, false_data, true_labels, false_labels = split(data, labels, index, t)\n",
    "\n",
    "    # Рекурсивно строим два поддерева\n",
    "    true_branch = build_tree(true_data, true_labels)\n",
    "    false_branch = build_tree(false_data, false_labels)\n",
    "\n",
    "    # Возвращаем класс узла со всеми поддеревьями, то есть целого дерева\n",
    "    return Node(index, t, true_branch, false_branch)"
   ]
  },
  {
   "cell_type": "code",
   "execution_count": 24,
   "id": "ed17e2c4",
   "metadata": {
    "execution": {
     "iopub.execute_input": "2022-07-16T11:05:07.704866Z",
     "iopub.status.busy": "2022-07-16T11:05:07.704451Z",
     "iopub.status.idle": "2022-07-16T11:05:07.728437Z",
     "shell.execute_reply": "2022-07-16T11:05:07.727156Z"
    },
    "papermill": {
     "duration": 0.042164,
     "end_time": "2022-07-16T11:05:07.730836",
     "exception": false,
     "start_time": "2022-07-16T11:05:07.688672",
     "status": "completed"
    },
    "tags": []
   },
   "outputs": [
    {
     "name": "stdout",
     "output_type": "stream",
     "text": [
      "Индекс 0\n",
      "Порог 0.16261402870113306\n",
      "--> True:\n",
      "  Индекс 1\n",
      "  Порог -1.5208896621663803\n",
      "  --> True:\n",
      "    Индекс 0\n",
      "    Порог -0.9478301462477035\n",
      "    --> True:\n",
      "      Прогноз: 0\n",
      "    --> False:\n",
      "      Прогноз: 1\n",
      "  --> False:\n",
      "    Прогноз: 0\n",
      "--> False:\n",
      "  Прогноз: 1\n"
     ]
    }
   ],
   "source": [
    "my_tree = build_tree(train_data, train_labels)\n",
    "print_tree(my_tree)"
   ]
  },
  {
   "cell_type": "markdown",
   "id": "835f1ae2",
   "metadata": {
    "papermill": {
     "duration": 0.013735,
     "end_time": "2022-07-16T11:05:07.758834",
     "exception": false,
     "start_time": "2022-07-16T11:05:07.745099",
     "status": "completed"
    },
    "tags": []
   },
   "source": [
    "**Глубина**"
   ]
  },
  {
   "cell_type": "code",
   "execution_count": 25,
   "id": "cabf0571",
   "metadata": {
    "execution": {
     "iopub.execute_input": "2022-07-16T11:05:07.788075Z",
     "iopub.status.busy": "2022-07-16T11:05:07.787672Z",
     "iopub.status.idle": "2022-07-16T11:05:07.797425Z",
     "shell.execute_reply": "2022-07-16T11:05:07.796196Z"
    },
    "papermill": {
     "duration": 0.027174,
     "end_time": "2022-07-16T11:05:07.799803",
     "exception": false,
     "start_time": "2022-07-16T11:05:07.772629",
     "status": "completed"
    },
    "tags": []
   },
   "outputs": [],
   "source": [
    "def build_tree(data, labels, depth=4):\n",
    "\n",
    "    quality, t, index = find_best_split(data, labels) # ищем лучшее разбиение\n",
    "#     print(quality, t, index)\n",
    "\n",
    "    #  Базовый случай - прекращаем рекурсию, когда нет прироста в качества\n",
    "    # неопределенность после разбиения осталась такой же как до\n",
    "    if quality == 0 or depth == 0: # критерий останова\n",
    "#         print('leaf')\n",
    "        return Leaf(data, labels) # считаем прогноз для листьев\n",
    "\n",
    "    # если качество улучшилось, то делим дерево по лучшему разбиению\n",
    "    true_data, false_data, true_labels, false_labels = split(data, labels, index, t)\n",
    "\n",
    "    # Рекурсивно строим два поддерева\n",
    "    true_branch = build_tree(true_data, true_labels, depth - 1)\n",
    "    false_branch = build_tree(false_data, false_labels, depth - 1)\n",
    "\n",
    "    # Возвращаем класс узла со всеми поддеревьями, то есть целого дерева\n",
    "    return Node(index, t, true_branch, false_branch)"
   ]
  },
  {
   "cell_type": "code",
   "execution_count": 26,
   "id": "2dbd762b",
   "metadata": {
    "execution": {
     "iopub.execute_input": "2022-07-16T11:05:07.829441Z",
     "iopub.status.busy": "2022-07-16T11:05:07.829033Z",
     "iopub.status.idle": "2022-07-16T11:05:07.855545Z",
     "shell.execute_reply": "2022-07-16T11:05:07.853509Z"
    },
    "papermill": {
     "duration": 0.044371,
     "end_time": "2022-07-16T11:05:07.858101",
     "exception": false,
     "start_time": "2022-07-16T11:05:07.813730",
     "status": "completed"
    },
    "tags": []
   },
   "outputs": [
    {
     "name": "stdout",
     "output_type": "stream",
     "text": [
      "Индекс 0\n",
      "Порог 0.16261402870113306\n",
      "--> True:\n",
      "  Индекс 1\n",
      "  Порог -1.5208896621663803\n",
      "  --> True:\n",
      "    Индекс 0\n",
      "    Порог -0.9478301462477035\n",
      "    --> True:\n",
      "      Прогноз: 0\n",
      "    --> False:\n",
      "      Прогноз: 1\n",
      "  --> False:\n",
      "    Прогноз: 0\n",
      "--> False:\n",
      "  Прогноз: 1\n"
     ]
    }
   ],
   "source": [
    "my_tree = build_tree(train_data, train_labels)\n",
    "print_tree(my_tree)"
   ]
  },
  {
   "cell_type": "markdown",
   "id": "eeed4b21",
   "metadata": {
    "papermill": {
     "duration": 0.014733,
     "end_time": "2022-07-16T11:05:07.887441",
     "exception": false,
     "start_time": "2022-07-16T11:05:07.872708",
     "status": "completed"
    },
    "tags": []
   },
   "source": [
    "**Реализуйте дерево для задачи регрессии. Возьмите за основу дерево, реализованное в методичке, заменив механизм предсказания в листе на взятие среднего значения по выборке, и критерий Джини на дисперсию значений.**"
   ]
  },
  {
   "cell_type": "code",
   "execution_count": 27,
   "id": "2989e497",
   "metadata": {
    "execution": {
     "iopub.execute_input": "2022-07-16T11:05:07.918831Z",
     "iopub.status.busy": "2022-07-16T11:05:07.918274Z",
     "iopub.status.idle": "2022-07-16T11:05:07.924478Z",
     "shell.execute_reply": "2022-07-16T11:05:07.923620Z"
    },
    "papermill": {
     "duration": 0.024852,
     "end_time": "2022-07-16T11:05:07.927207",
     "exception": false,
     "start_time": "2022-07-16T11:05:07.902355",
     "status": "completed"
    },
    "tags": []
   },
   "outputs": [],
   "source": [
    "data, labels = datasets.make_regression(n_samples=1000, n_features=2, n_informative=2, random_state=5)"
   ]
  },
  {
   "cell_type": "code",
   "execution_count": 28,
   "id": "15053844",
   "metadata": {
    "execution": {
     "iopub.execute_input": "2022-07-16T11:05:07.957423Z",
     "iopub.status.busy": "2022-07-16T11:05:07.957018Z",
     "iopub.status.idle": "2022-07-16T11:05:07.963735Z",
     "shell.execute_reply": "2022-07-16T11:05:07.962599Z"
    },
    "papermill": {
     "duration": 0.024587,
     "end_time": "2022-07-16T11:05:07.966068",
     "exception": false,
     "start_time": "2022-07-16T11:05:07.941481",
     "status": "completed"
    },
    "tags": []
   },
   "outputs": [],
   "source": [
    "# Разобьем выборку на обучающую и тестовую\n",
    "train_data, test_data, train_labels, test_labels = model_selection.train_test_split(data, labels, \n",
    "                                                                                     test_size = 0.3,\n",
    "                                                                                     random_state = 1)"
   ]
  },
  {
   "cell_type": "code",
   "execution_count": 29,
   "id": "c006395f",
   "metadata": {
    "execution": {
     "iopub.execute_input": "2022-07-16T11:05:07.997213Z",
     "iopub.status.busy": "2022-07-16T11:05:07.996371Z",
     "iopub.status.idle": "2022-07-16T11:05:08.168875Z",
     "shell.execute_reply": "2022-07-16T11:05:08.168038Z"
    },
    "papermill": {
     "duration": 0.190608,
     "end_time": "2022-07-16T11:05:08.171205",
     "exception": false,
     "start_time": "2022-07-16T11:05:07.980597",
     "status": "completed"
    },
    "tags": []
   },
   "outputs": [
    {
     "data": {
      "image/png": "[encoded data removed]",
      "text/plain": [
       "<Figure size 432x288 with 1 Axes>"
      ]
     },
     "metadata": {
      "needs_background": "light"
     },
     "output_type": "display_data"
    }
   ],
   "source": [
    "plt.plot(train_data[:,0], train_labels,'.')\n",
    "plt.show()"
   ]
  },
  {
   "cell_type": "code",
   "execution_count": 30,
   "id": "f0e85a5d",
   "metadata": {
    "execution": {
     "iopub.execute_input": "2022-07-16T11:05:08.203323Z",
     "iopub.status.busy": "2022-07-16T11:05:08.202155Z",
     "iopub.status.idle": "2022-07-16T11:05:08.373096Z",
     "shell.execute_reply": "2022-07-16T11:05:08.372185Z"
    },
    "papermill": {
     "duration": 0.189073,
     "end_time": "2022-07-16T11:05:08.375362",
     "exception": false,
     "start_time": "2022-07-16T11:05:08.186289",
     "status": "completed"
    },
    "tags": []
   },
   "outputs": [
    {
     "data": {
      "image/png": "[encoded data removed]",
      "text/plain": [
       "<Figure size 432x288 with 1 Axes>"
      ]
     },
     "metadata": {
      "needs_background": "light"
     },
     "output_type": "display_data"
    }
   ],
   "source": [
    "plt.plot(test_data[:,0], test_labels,'.')\n",
    "plt.show()"
   ]
  },
  {
   "cell_type": "code",
   "execution_count": 31,
   "id": "e5fc1473",
   "metadata": {
    "execution": {
     "iopub.execute_input": "2022-07-16T11:05:08.408028Z",
     "iopub.status.busy": "2022-07-16T11:05:08.407202Z",
     "iopub.status.idle": "2022-07-16T11:05:08.411811Z",
     "shell.execute_reply": "2022-07-16T11:05:08.411022Z"
    },
    "papermill": {
     "duration": 0.023334,
     "end_time": "2022-07-16T11:05:08.413921",
     "exception": false,
     "start_time": "2022-07-16T11:05:08.390587",
     "status": "completed"
    },
    "tags": []
   },
   "outputs": [],
   "source": [
    "def mse(labels):\n",
    "    return np.mean((labels - labels.mean())**2)"
   ]
  },
  {
   "cell_type": "code",
   "execution_count": 32,
   "id": "8982c40f",
   "metadata": {
    "execution": {
     "iopub.execute_input": "2022-07-16T11:05:08.447032Z",
     "iopub.status.busy": "2022-07-16T11:05:08.446350Z",
     "iopub.status.idle": "2022-07-16T11:05:08.454873Z",
     "shell.execute_reply": "2022-07-16T11:05:08.453834Z"
    },
    "papermill": {
     "duration": 0.028229,
     "end_time": "2022-07-16T11:05:08.457256",
     "exception": false,
     "start_time": "2022-07-16T11:05:08.429027",
     "status": "completed"
    },
    "tags": []
   },
   "outputs": [],
   "source": [
    "def find_best_split(data, labels):\n",
    "    \n",
    "    #  обозначим минимальное количество объектов в узле\n",
    "    min_samples_leaf = 5\n",
    "\n",
    "    root_mse = mse(labels)\n",
    "\n",
    "    best_quality = 0\n",
    "    best_t = None\n",
    "    best_index = None\n",
    "    \n",
    "    n_features = data.shape[1]\n",
    "    \n",
    "    for index in range(n_features):\n",
    "        # будем проверять только уникальные значения признака, исключая повторения\n",
    "        t_values = np.unique(data[:, index])\n",
    "        \n",
    "        for t in t_values:\n",
    "            true_data, false_data, true_targets, false_targets = split(data, labels, index, t)\n",
    "            #  пропускаем разбиения, в которых в узле остается менее 5 объектов\n",
    "            if len(true_data) < min_samples_leaf or len(false_data) < min_samples_leaf:\n",
    "                continue\n",
    "            \n",
    "            current_quality = quality(true_targets, false_targets, root_mse)\n",
    "            \n",
    "            #  выбираем порог, на котором получается максимальный прирост качества\n",
    "            if current_quality > best_quality:\n",
    "                best_quality, best_t, best_index = current_quality, t, index\n",
    "\n",
    "    return best_quality, best_t, best_index"
   ]
  },
  {
   "cell_type": "code",
   "execution_count": 33,
   "id": "f9377c61",
   "metadata": {
    "execution": {
     "iopub.execute_input": "2022-07-16T11:05:08.489770Z",
     "iopub.status.busy": "2022-07-16T11:05:08.489072Z",
     "iopub.status.idle": "2022-07-16T11:05:08.495677Z",
     "shell.execute_reply": "2022-07-16T11:05:08.494722Z"
    },
    "papermill": {
     "duration": 0.025348,
     "end_time": "2022-07-16T11:05:08.497782",
     "exception": false,
     "start_time": "2022-07-16T11:05:08.472434",
     "status": "completed"
    },
    "tags": []
   },
   "outputs": [],
   "source": [
    "def build_tree(data, target):\n",
    "\n",
    "    quality, t, index = find_best_split(data, target)\n",
    "\n",
    "    #  Базовый случай - прекращаем рекурсию, когда нет прироста в качества\n",
    "    if quality == 0:\n",
    "        return Leaf(data, target)\n",
    "\n",
    "    true_data, false_data, true_target, false_target = split(data, target, index, t)\n",
    "\n",
    "    # Рекурсивно строим два поддерева\n",
    "    true_branch = build_tree(true_data, true_target)\n",
    "    false_branch = build_tree(false_data, false_target)\n",
    "\n",
    "    node = Node(index, t, true_branch, false_branch)\n",
    "\n",
    "    # Возвращаем класс узла со всеми поддеревьями, то есть целого дерева\n",
    "    return node"
   ]
  },
  {
   "cell_type": "code",
   "execution_count": 34,
   "id": "c03083ab",
   "metadata": {
    "execution": {
     "iopub.execute_input": "2022-07-16T11:05:08.530247Z",
     "iopub.status.busy": "2022-07-16T11:05:08.529567Z",
     "iopub.status.idle": "2022-07-16T11:05:31.883875Z",
     "shell.execute_reply": "2022-07-16T11:05:31.882702Z"
    },
    "papermill": {
     "duration": 23.375718,
     "end_time": "2022-07-16T11:05:31.888615",
     "exception": false,
     "start_time": "2022-07-16T11:05:08.512897",
     "status": "completed"
    },
    "tags": []
   },
   "outputs": [
    {
     "name": "stdout",
     "output_type": "stream",
     "text": [
      "Индекс 0\n",
      "Порог -2.448247515311877\n",
      "--> True:\n",
      "  Прогноз: -117.79814425510116\n",
      "--> False:\n",
      "  Индекс 0\n",
      "  Порог -2.1320856195468827\n",
      "  --> True:\n",
      "    Прогноз: -149.68307391418185\n",
      "  --> False:\n",
      "    Индекс 0\n",
      "    Порог -1.8807932577652682\n",
      "    --> True:\n",
      "      Прогноз: -66.05361630479513\n",
      "    --> False:\n",
      "      Индекс 0\n",
      "      Порог -1.807916624216005\n",
      "      --> True:\n",
      "        Прогноз: -109.44133383487512\n",
      "      --> False:\n",
      "        Индекс 0\n",
      "        Порог -1.6460114668987378\n",
      "        --> True:\n",
      "          Индекс 0\n",
      "          Порог -1.7379210888930738\n",
      "          --> True:\n",
      "            Прогноз: -32.23122007996443\n",
      "          --> False:\n",
      "            Прогноз: -196.57548613097646\n",
      "        --> False:\n",
      "          Индекс 0\n",
      "          Порог -1.1211340974961255\n",
      "          --> True:\n",
      "            Индекс 0\n",
      "            Порог -1.5929277448721917\n",
      "            --> True:\n",
      "              Прогноз: -123.81796002725498\n",
      "            --> False:\n",
      "              Индекс 0\n",
      "              Порог -1.498957519180928\n",
      "              --> True:\n",
      "                Прогноз: -88.89625483133858\n",
      "              --> False:\n",
      "                Индекс 0\n",
      "                Порог -1.4783734879527874\n",
      "                --> True:\n",
      "                  Прогноз: -102.27337278817272\n",
      "                --> False:\n",
      "                  Индекс 0\n",
      "                  Порог -1.3625895484978219\n",
      "                  --> True:\n",
      "                    Индекс 0\n",
      "                    Порог -1.4453021192196747\n",
      "                    --> True:\n",
      "                      Прогноз: 4.72653080906278\n",
      "                    --> False:\n",
      "                      Прогноз: -126.67653386570422\n",
      "                  --> False:\n",
      "                    Индекс 0\n",
      "                    Порог -1.318919648508623\n",
      "                    --> True:\n",
      "                      Прогноз: -28.149469694095274\n",
      "                    --> False:\n",
      "                      Индекс 0\n",
      "                      Порог -1.2796231822645914\n",
      "                      --> True:\n",
      "                        Прогноз: -78.44557738717442\n",
      "                      --> False:\n",
      "                        Индекс 0\n",
      "                        Порог -1.207080695234212\n",
      "                        --> True:\n",
      "                          Прогноз: -108.26700936483775\n",
      "                        --> False:\n",
      "                          Индекс 0\n",
      "                          Порог -1.184532036076911\n",
      "                          --> True:\n",
      "                            Прогноз: -83.91260512524688\n",
      "                          --> False:\n",
      "                            Прогноз: -65.888156083461\n",
      "          --> False:\n",
      "            Индекс 0\n",
      "            Порог -1.0734550855074312\n",
      "            --> True:\n",
      "              Прогноз: -114.79711994284669\n",
      "            --> False:\n",
      "              Индекс 0\n",
      "              Порог -1.0439731210034657\n",
      "              --> True:\n",
      "                Прогноз: -82.76711342076538\n",
      "              --> False:\n",
      "                Индекс 0\n",
      "                Порог -0.9589359629415093\n",
      "                --> True:\n",
      "                  Индекс 0\n",
      "                  Порог -1.0295734942351702\n",
      "                  --> True:\n",
      "                    Прогноз: -37.464572610600825\n",
      "                  --> False:\n",
      "                    Индекс 0\n",
      "                    Порог -0.9975052433325171\n",
      "                    --> True:\n",
      "                      Прогноз: -0.5047293938356248\n",
      "                    --> False:\n",
      "                      Прогноз: -24.140147541435205\n",
      "                --> False:\n",
      "                  Индекс 0\n",
      "                  Порог -0.9225285913731459\n",
      "                  --> True:\n",
      "                    Прогноз: -52.868691329720136\n",
      "                  --> False:\n",
      "                    Индекс 0\n",
      "                    Порог -0.8693923203544858\n",
      "                    --> True:\n",
      "                      Прогноз: -25.4609735332875\n",
      "                    --> False:\n",
      "                      Индекс 0\n",
      "                      Порог -0.7544613982936613\n",
      "                      --> True:\n",
      "                        Индекс 0\n",
      "                        Порог -0.8385805947249999\n",
      "                        --> True:\n",
      "                          Прогноз: -100.58606280779316\n",
      "                        --> False:\n",
      "                          Индекс 0\n",
      "                          Порог -0.7796364265458805\n",
      "                          --> True:\n",
      "                            Прогноз: 69.94171772792582\n",
      "                          --> False:\n",
      "                            Прогноз: -65.38061820837369\n",
      "                      --> False:\n",
      "                        Индекс 0\n",
      "                        Порог -0.7433841683223607\n",
      "                        --> True:\n",
      "                          Прогноз: -95.45653220474586\n",
      "                        --> False:\n",
      "                          Индекс 0\n",
      "                          Порог -0.7035969280577375\n",
      "                          --> True:\n",
      "                            Прогноз: -57.72905456027381\n",
      "                          --> False:\n",
      "                            Индекс 0\n",
      "                            Порог -0.6806540653541923\n",
      "                            --> True:\n",
      "                              Прогноз: -118.4719145871847\n",
      "                            --> False:\n",
      "                              Индекс 0\n",
      "                              Порог -0.6475627188004094\n",
      "                              --> True:\n",
      "                                Прогноз: -53.13227980132956\n",
      "                              --> False:\n",
      "                                Индекс 0\n",
      "                                Порог -0.6032411812254228\n",
      "                                --> True:\n",
      "                                  Индекс 0\n",
      "                                  Порог -0.635891152110188\n",
      "                                  --> True:\n",
      "                                    Прогноз: -15.646156516097346\n",
      "                                  --> False:\n",
      "                                    Индекс 0\n",
      "                                    Порог -0.6181803430738254\n",
      "                                    --> True:\n",
      "                                      Прогноз: -95.3442389985826\n",
      "                                    --> False:\n",
      "                                      Прогноз: -10.96354954961133\n",
      "                                --> False:\n",
      "                                  Индекс 0\n",
      "                                  Порог -0.5730261517660101\n",
      "                                  --> True:\n",
      "                                    Прогноз: -50.18667982261029\n",
      "                                  --> False:\n",
      "                                    Индекс 0\n",
      "                                    Порог -0.5494973323633916\n",
      "                                    --> True:\n",
      "                                      Прогноз: 24.69395508316554\n",
      "                                    --> False:\n",
      "                                      Индекс 0\n",
      "                                      Порог -0.5325521219813126\n",
      "                                      --> True:\n",
      "                                        Прогноз: -15.022043915105655\n",
      "                                      --> False:\n",
      "                                        Индекс 0\n",
      "                                        Порог -0.510256056076286\n",
      "                                        --> True:\n",
      "                                          Прогноз: -5.061610267434823\n",
      "                                        --> False:\n",
      "                                          Индекс 0\n",
      "                                          Порог -0.453036380284904\n",
      "                                          --> True:\n",
      "                                            Индекс 0\n",
      "                                            Порог -0.4865368780415053\n",
      "                                            --> True:\n",
      "                                              Прогноз: -3.7205307456454157\n",
      "                                            --> False:\n",
      "                                              Прогноз: 53.71175000754268\n",
      "                                          --> False:\n",
      "                                            Индекс 0\n",
      "                                            Порог -0.41731727529120094\n",
      "                                            --> True:\n",
      "                                              Прогноз: -30.582579702482896\n",
      "                                            --> False:\n",
      "                                              Индекс 0\n",
      "                                              Порог -0.4039924696397172\n",
      "                                              --> True:\n",
      "                                                Прогноз: -55.943196667647484\n",
      "                                              --> False:\n",
      "                                                Индекс 0\n",
      "                                                Порог -0.33986050853427485\n",
      "                                                --> True:\n",
      "                                                  Индекс 0\n",
      "                                                  Порог -0.375707409780949\n",
      "                                                  --> True:\n",
      "                                                    Прогноз: -57.47123738651298\n",
      "                                                  --> False:\n",
      "                                                    Прогноз: -38.66454908127749\n",
      "                                                --> False:\n",
      "                                                  Индекс 0\n",
      "                                                  Порог -0.27158407447493416\n",
      "                                                  --> True:\n",
      "                                                    Индекс 0\n",
      "                                                    Порог -0.3088477726134558\n",
      "                                                    --> True:\n",
      "                                                      Прогноз: -67.88075538841018\n",
      "                                                    --> False:\n",
      "                                                      Прогноз: -52.77533102578974\n",
      "                                                  --> False:\n",
      "                                                    Индекс 0\n",
      "                                                    Порог -0.24071114226406937\n",
      "                                                    --> True:\n",
      "                                                      Прогноз: 33.639265092073\n",
      "                                                    --> False:\n",
      "                                                      Индекс 0\n",
      "                                                      Порог -0.21306716162840686\n",
      "                                                      --> True:\n",
      "                                                        Прогноз: 63.444963243110024\n",
      "                                                      --> False:\n",
      "                                                        Индекс 0\n",
      "                                                        Порог -0.16636061136497707\n",
      "                                                        --> True:\n",
      "                                                          Прогноз: -48.05772884437802\n",
      "                                                        --> False:\n",
      "                                                          Индекс 0\n",
      "                                                          Порог -0.13230195045629967\n",
      "                                                          --> True:\n",
      "                                                            Прогноз: 41.072764986055994\n",
      "                                                          --> False:\n",
      "                                                            Индекс 0\n",
      "                                                            Порог -0.09383244866604305\n",
      "                                                            --> True:\n",
      "                                                              Прогноз: 110.9438799355219\n",
      "                                                            --> False:\n",
      "                                                              Индекс 0\n",
      "                                                              Порог -0.06801344433577157\n",
      "                                                              --> True:\n",
      "                                                                Индекс 0\n",
      "                                                                Порог -0.0848357991956406\n",
      "                                                                --> True:\n",
      "                                                                  Прогноз: -71.37707326807589\n",
      "                                                                --> False:\n",
      "                                                                  Прогноз: 50.12901189619315\n",
      "                                                              --> False:\n",
      "                                                                Индекс 0\n",
      "                                                                Порог -0.05743985983902545\n",
      "                                                                --> True:\n",
      "                                                                  Прогноз: 37.24225941309669\n",
      "                                                                --> False:\n",
      "                                                                  Индекс 0\n",
      "                                                                  Порог -0.0465143952680729\n",
      "                                                                  --> True:\n",
      "                                                                    Прогноз: -43.78614089737506\n",
      "                                                                  --> False:\n",
      "                                                                    Индекс 0\n",
      "                                                                    Порог -0.04087017694338075\n",
      "                                                                    --> True:\n",
      "                                                                      Прогноз: -54.881821005807694\n",
      "                                                                    --> False:\n",
      "                                                                      Индекс 0\n",
      "                                                                      Порог -0.017353268952074445\n",
      "                                                                      --> True:\n",
      "                                                                        Прогноз: -3.810365356118175\n",
      "                                                                      --> False:\n",
      "                                                                        Индекс 0\n",
      "                                                                        Порог 0.02017518052307516\n",
      "                                                                        --> True:\n",
      "                                                                          Прогноз: 36.252336910348866\n",
      "                                                                        --> False:\n",
      "                                                                          Индекс 0\n",
      "                                                                          Порог 0.03376606363924655\n",
      "                                                                          --> True:\n",
      "                                                                            Прогноз: -11.254869735161424\n",
      "                                                                          --> False:\n",
      "                                                                            Индекс 0\n",
      "                                                                            Порог 0.053542328408471264\n",
      "                                                                            --> True:\n",
      "                                                                              Прогноз: -25.265154114315283\n",
      "                                                                            --> False:\n",
      "                                                                              Индекс 0\n",
      "                                                                              Порог 0.07414337771439142\n",
      "                                                                              --> True:\n",
      "                                                                                Прогноз: 59.2867539324871\n",
      "                                                                              --> False:\n",
      "                                                                                Индекс 0\n",
      "                                                                                Порог 0.09958489976611803\n",
      "                                                                                --> True:\n",
      "                                                                                  Прогноз: 96.96430807132093\n",
      "                                                                                --> False:\n",
      "                                                                                  Индекс 0\n",
      "                                                                                  Порог 0.11627967777859918\n",
      "                                                                                  --> True:\n",
      "                                                                                    Прогноз: 24.8201085514798\n",
      "                                                                                  --> False:\n",
      "                                                                                    Индекс 0\n",
      "                                                                                    Порог 0.14082715272159635\n",
      "                                                                                    --> True:\n",
      "                                                                                      Прогноз: -2.1035115633425274\n",
      "                                                                                    --> False:\n",
      "                                                                                      Индекс 0\n",
      "                                                                                      Порог 0.1615050880528472\n",
      "                                                                                      --> True:\n",
      "                                                                                        Прогноз: 27.61885782537872\n",
      "                                                                                      --> False:\n",
      "                                                                                        Индекс 0\n",
      "                                                                                        Порог 0.29311826488950987\n",
      "                                                                                        --> True:\n",
      "                                                                                          Индекс 0\n",
      "                                                                                          Порог 0.17638022492218763\n",
      "                                                                                          --> True:\n",
      "                                                                                            Прогноз: 13.806327200602635\n",
      "                                                                                          --> False:\n",
      "                                                                                            Индекс 0\n",
      "                                                                                            Порог 0.19639885649402458\n",
      "                                                                                            --> True:\n",
      "                                                                                              Прогноз: 96.6360188046606\n",
      "                                                                                            --> False:\n",
      "                                                                                              Индекс 0\n",
      "                                                                                              Порог 0.2091621161267067\n",
      "                                                                                              --> True:\n",
      "                                                                                                Прогноз: 48.018115220414074\n",
      "                                                                                              --> False:\n",
      "                                                                                                Индекс 0\n",
      "                                                                                                Порог 0.23411613132802306\n",
      "                                                                                                --> True:\n",
      "                                                                                                  Прогноз: 127.5924417043316\n",
      "                                                                                                --> False:\n",
      "                                                                                                  Индекс 0\n",
      "                                                                                                  Порог 0.24981731592122017\n",
      "                                                                                                  --> True:\n",
      "                                                                                                    Прогноз: 75.38629455846322\n",
      "                                                                                                  --> False:\n",
      "                                                                                                    Прогноз: -55.16100982660481\n",
      "                                                                                        --> False:\n",
      "                                                                                          Индекс 0\n",
      "                                                                                          Порог 0.45765807158631955\n",
      "                                                                                          --> True:\n",
      "                                                                                            Индекс 0\n",
      "                                                                                            Порог 0.3250548201907884\n",
      "                                                                                            --> True:\n",
      "                                                                                              Прогноз: 21.04918342513226\n",
      "                                                                                            --> False:\n",
      "                                                                                              Индекс 0\n",
      "                                                                                              Порог 0.336297778982035\n",
      "                                                                                              --> True:\n",
      "                                                                                                Прогноз: -63.609371153528556\n",
      "                                                                                              --> False:\n",
      "                                                                                                Индекс 0\n",
      "                                                                                                Порог 0.3700738819838496\n",
      "                                                                                                --> True:\n",
      "                                                                                                  Прогноз: 28.431557200324878\n",
      "                                                                                                --> False:\n",
      "                                                                                                  Индекс 0\n",
      "                                                                                                  Порог 0.4126739298805429\n",
      "                                                                                                  --> True:\n",
      "                                                                                                    Индекс 0\n",
      "                                                                                                    Порог 0.38547989325078796\n",
      "                                                                                                    --> True:\n",
      "                                                                                                      Прогноз: 1.823727476329573\n",
      "                                                                                                    --> False:\n",
      "                                                                                                      Прогноз: 106.66852713303483\n",
      "                                                                                                  --> False:\n",
      "                                                                                                    Индекс 0\n",
      "                                                                                                    Порог 0.4320117625576069\n",
      "                                                                                                    --> True:\n",
      "                                                                                                      Прогноз: 161.54348097641147\n",
      "                                                                                                    --> False:\n",
      "                                                                                                      Прогноз: 145.2026488895343\n",
      "                                                                                          --> False:\n",
      "                                                                                            Индекс 0\n",
      "                                                                                            Порог 0.47986292109623435\n",
      "                                                                                            --> True:\n",
      "                                                                                              Прогноз: -32.06939959427443\n",
      "                                                                                            --> False:\n",
      "                                                                                              Индекс 0\n",
      "                                                                                              Порог 0.49355766095142994\n",
      "                                                                                              --> True:\n",
      "                                                                                                Прогноз: 56.99920859643141\n",
      "                                                                                              --> False:\n",
      "                                                                                                Индекс 0\n",
      "                                                                                                Порог 0.7299598177268846\n",
      "                                                                                                --> True:\n",
      "                                                                                                  Индекс 0\n",
      "                                                                                                  Порог 0.49969102158747963\n",
      "                                                                                                  --> True:\n",
      "                                                                                                    Прогноз: 72.93129332804895\n",
      "                                                                                                  --> False:\n",
      "                                                                                                    Индекс 0\n",
      "                                                                                                    Порог 0.5221592953567665\n",
      "                                                                                                    --> True:\n",
      "                                                                                                      Прогноз: 22.335743293727766\n",
      "                                                                                                    --> False:\n",
      "                                                                                                      Индекс 0\n",
      "                                                                                                      Порог 0.5351551526217296\n",
      "                                                                                                      --> True:\n",
      "                                                                                                        Прогноз: 8.86682950000019\n",
      "                                                                                                      --> False:\n",
      "                                                                                                        Индекс 0\n",
      "                                                                                                        Порог 0.568132717730888\n",
      "                                                                                                        --> True:\n",
      "                                                                                                          Прогноз: 91.83740177647006\n",
      "                                                                                                        --> False:\n",
      "                                                                                                          Индекс 0\n",
      "                                                                                                          Порог 0.5806024098925451\n",
      "                                                                                                          --> True:\n",
      "                                                                                                            Прогноз: 30.91683045184609\n",
      "                                                                                                          --> False:\n",
      "                                                                                                            Индекс 0\n",
      "                                                                                                            Порог 0.6088842688337636\n",
      "                                                                                                            --> True:\n",
      "                                                                                                              Прогноз: -19.1694141983322\n",
      "                                                                                                            --> False:\n",
      "                                                                                                              Индекс 0\n",
      "                                                                                                              Порог 0.6528930147774489\n",
      "                                                                                                              --> True:\n",
      "                                                                                                                Прогноз: 67.26737200780035\n",
      "                                                                                                              --> False:\n",
      "                                                                                                                Индекс 0\n",
      "                                                                                                                Порог 0.6871199336657926\n",
      "                                                                                                                --> True:\n",
      "                                                                                                                  Прогноз: 85.88200454947113\n",
      "                                                                                                                --> False:\n",
      "                                                                                                                  Прогноз: 90.47314147227749\n",
      "                                                                                                --> False:\n",
      "                                                                                                  Индекс 0\n",
      "                                                                                                  Порог 0.7610253384174932\n",
      "                                                                                                  --> True:\n",
      "                                                                                                    Прогноз: 60.158213368251985\n",
      "                                                                                                  --> False:\n",
      "                                                                                                    Индекс 0\n",
      "                                                                                                    Порог 0.7792603519294811\n",
      "                                                                                                    --> True:\n",
      "                                                                                                      Прогноз: -4.4900592803927495\n",
      "                                                                                                    --> False:\n",
      "                                                                                                      Индекс 0\n",
      "                                                                                                      Порог 0.8126333812363487\n",
      "                                                                                                      --> True:\n",
      "                                                                                                        Прогноз: 12.144729629745633\n",
      "                                                                                                      --> False:\n",
      "                                                                                                        Индекс 0\n",
      "                                                                                                        Порог 0.8385573116483224\n",
      "                                                                                                        --> True:\n",
      "                                                                                                          Прогноз: 67.37181215839188\n",
      "                                                                                                        --> False:\n",
      "                                                                                                          Индекс 0\n",
      "                                                                                                          Порог 0.8805501040855753\n",
      "                                                                                                          --> True:\n",
      "                                                                                                            Прогноз: 125.35172313651199\n",
      "                                                                                                          --> False:\n",
      "                                                                                                            Индекс 0\n",
      "                                                                                                            Порог 0.9024795228465925\n",
      "                                                                                                            --> True:\n",
      "                                                                                                              Прогноз: 46.93872372353758\n",
      "                                                                                                            --> False:\n",
      "                                                                                                              Индекс 0\n",
      "                                                                                                              Порог 0.9248473573232254\n",
      "                                                                                                              --> True:\n",
      "                                                                                                                Прогноз: -10.98888289853629\n",
      "                                                                                                              --> False:\n",
      "                                                                                                                Индекс 0\n",
      "                                                                                                                Порог 0.9503447080453289\n",
      "                                                                                                                --> True:\n",
      "                                                                                                                  Прогноз: 143.52750897365974\n",
      "                                                                                                                --> False:\n",
      "                                                                                                                  Индекс 0\n",
      "                                                                                                                  Порог 1.1389132593516353\n",
      "                                                                                                                  --> True:\n",
      "                                                                                                                    Индекс 0\n",
      "                                                                                                                    Порог 0.9848292171973758\n",
      "                                                                                                                    --> True:\n",
      "                                                                                                                      Прогноз: 26.71148033898976\n",
      "                                                                                                                    --> False:\n",
      "                                                                                                                      Индекс 0\n",
      "                                                                                                                      Порог 1.0077965714377337\n",
      "                                                                                                                      --> True:\n",
      "                                                                                                                        Прогноз: -52.46142329851393\n",
      "                                                                                                                      --> False:\n",
      "                                                                                                                        Индекс 0\n",
      "                                                                                                                        Порог 1.0623538292391501\n",
      "                                                                                                                        --> True:\n",
      "                                                                                                                          Прогноз: 83.10396337658372\n",
      "                                                                                                                        --> False:\n",
      "                                                                                                                          Индекс 0\n",
      "                                                                                                                          Порог 1.1058259766472325\n",
      "                                                                                                                          --> True:\n",
      "                                                                                                                            Прогноз: 52.0577199405043\n",
      "                                                                                                                          --> False:\n",
      "                                                                                                                            Прогноз: -5.693761710069467\n",
      "                                                                                                                  --> False:\n",
      "                                                                                                                    Индекс 0\n",
      "                                                                                                                    Порог 1.2570211656805685\n",
      "                                                                                                                    --> True:\n",
      "                                                                                                                      Индекс 0\n",
      "                                                                                                                      Порог 1.1467286284314107\n",
      "                                                                                                                      --> True:\n",
      "                                                                                                                        Прогноз: 71.40922238219886\n",
      "                                                                                                                      --> False:\n",
      "                                                                                                                        Индекс 0\n",
      "                                                                                                                        Порог 1.1848953628732355\n",
      "                                                                                                                        --> True:\n",
      "                                                                                                                          Прогноз: 53.37057407609507\n",
      "                                                                                                                        --> False:\n",
      "                                                                                                                          Индекс 0\n",
      "                                                                                                                          Порог 1.1946000177666156\n",
      "                                                                                                                          --> True:\n",
      "                                                                                                                            Прогноз: 87.59802589616143\n",
      "                                                                                                                          --> False:\n",
      "                                                                                                                            Прогноз: -16.86708035070312\n",
      "                                                                                                                    --> False:\n",
      "                                                                                                                      Индекс 0\n",
      "                                                                                                                      Порог 1.3108463311373149\n",
      "                                                                                                                      --> True:\n",
      "                                                                                                                        Прогноз: 138.90437325004174\n",
      "                                                                                                                      --> False:\n",
      "                                                                                                                        Индекс 0\n",
      "                                                                                                                        Порог 1.3430605856366309\n",
      "                                                                                                                        --> True:\n",
      "                                                                                                                          Прогноз: 105.23127716706908\n",
      "                                                                                                                        --> False:\n",
      "                                                                                                                          Индекс 0\n",
      "                                                                                                                          Порог 1.4429500100967874\n",
      "                                                                                                                          --> True:\n",
      "                                                                                                                            Индекс 0\n",
      "                                                                                                                            Порог 1.3614230252643376\n",
      "                                                                                                                            --> True:\n",
      "                                                                                                                              Прогноз: 60.27931516682613\n",
      "                                                                                                                            --> False:\n",
      "                                                                                                                              Индекс 0\n",
      "                                                                                                                              Порог 1.3739334861897188\n",
      "                                                                                                                              --> True:\n",
      "                                                                                                                                Прогноз: 130.47996640166403\n",
      "                                                                                                                              --> False:\n",
      "                                                                                                                                Прогноз: 100.4899523394152\n",
      "                                                                                                                          --> False:\n",
      "                                                                                                                            Индекс 0\n",
      "                                                                                                                            Порог 1.4896875956260933\n",
      "                                                                                                                            --> True:\n",
      "                                                                                                                              Прогноз: 127.97487640348722\n",
      "                                                                                                                            --> False:\n",
      "                                                                                                                              Индекс 0\n",
      "                                                                                                                              Порог 1.5912962935225439\n",
      "                                                                                                                              --> True:\n",
      "                                                                                                                                Прогноз: 98.31086508337533\n",
      "                                                                                                                              --> False:\n",
      "                                                                                                                                Индекс 0\n",
      "                                                                                                                                Порог 1.853721080835546\n",
      "                                                                                                                                --> True:\n",
      "                                                                                                                                  Индекс 0\n",
      "                                                                                                                                  Порог 1.6480340206711754\n",
      "                                                                                                                                  --> True:\n",
      "                                                                                                                                    Прогноз: 38.20754786026116\n",
      "                                                                                                                                  --> False:\n",
      "                                                                                                                                    Индекс 0\n",
      "                                                                                                                                    Порог 1.7384488142376797\n",
      "                                                                                                                                    --> True:\n",
      "                                                                                                                                      Прогноз: 160.95545442469532\n",
      "                                                                                                                                    --> False:\n",
      "                                                                                                                                      Прогноз: 89.73377908833403\n",
      "                                                                                                                                --> False:\n",
      "                                                                                                                                  Индекс 0\n",
      "                                                                                                                                  Порог 2.1391656582903416\n",
      "                                                                                                                                  --> True:\n",
      "                                                                                                                                    Прогноз: 166.95757894637643\n",
      "                                                                                                                                  --> False:\n",
      "                                                                                                                                    Прогноз: 137.55645360690275\n"
     ]
    }
   ],
   "source": [
    "my_tree = build_tree(train_data, train_labels)\n",
    "print_tree(my_tree)"
   ]
  },
  {
   "cell_type": "code",
   "execution_count": 35,
   "id": "5d86911a",
   "metadata": {
    "execution": {
     "iopub.execute_input": "2022-07-16T11:05:31.927595Z",
     "iopub.status.busy": "2022-07-16T11:05:31.925372Z",
     "iopub.status.idle": "2022-07-16T11:05:31.950834Z",
     "shell.execute_reply": "2022-07-16T11:05:31.949587Z"
    },
    "papermill": {
     "duration": 0.046764,
     "end_time": "2022-07-16T11:05:31.953679",
     "exception": false,
     "start_time": "2022-07-16T11:05:31.906915",
     "status": "completed"
    },
    "tags": []
   },
   "outputs": [
    {
     "data": {
      "text/plain": [
       "[67.37181215839188,\n",
       " 48.018115220414074,\n",
       " 53.71175000754268,\n",
       " 41.072764986055994,\n",
       " 91.83740177647006]"
      ]
     },
     "execution_count": 35,
     "metadata": {},
     "output_type": "execute_result"
    }
   ],
   "source": [
    "# Получим ответы для обучающей выборки \n",
    "train_answers = predict(train_data, my_tree)\n",
    "train_answers[:5]"
   ]
  },
  {
   "cell_type": "code",
   "execution_count": 36,
   "id": "50845a1e",
   "metadata": {
    "execution": {
     "iopub.execute_input": "2022-07-16T11:05:31.989847Z",
     "iopub.status.busy": "2022-07-16T11:05:31.989430Z",
     "iopub.status.idle": "2022-07-16T11:05:32.001306Z",
     "shell.execute_reply": "2022-07-16T11:05:31.999993Z"
    },
    "papermill": {
     "duration": 0.033287,
     "end_time": "2022-07-16T11:05:32.004501",
     "exception": false,
     "start_time": "2022-07-16T11:05:31.971214",
     "status": "completed"
    },
    "tags": []
   },
   "outputs": [],
   "source": [
    "# И получим ответы для тестовой выборки\n",
    "answers = predict(test_data, my_tree)"
   ]
  },
  {
   "cell_type": "code",
   "execution_count": 37,
   "id": "e8e26ea8",
   "metadata": {
    "execution": {
     "iopub.execute_input": "2022-07-16T11:05:32.039089Z",
     "iopub.status.busy": "2022-07-16T11:05:32.038303Z",
     "iopub.status.idle": "2022-07-16T11:05:32.263264Z",
     "shell.execute_reply": "2022-07-16T11:05:32.261796Z"
    },
    "papermill": {
     "duration": 0.2463,
     "end_time": "2022-07-16T11:05:32.266912",
     "exception": false,
     "start_time": "2022-07-16T11:05:32.020612",
     "status": "completed"
    },
    "tags": []
   },
   "outputs": [
    {
     "data": {
      "image/png": "[encoded data removed]",
      "text/plain": [
       "<Figure size 1152x432 with 1 Axes>"
      ]
     },
     "metadata": {
      "needs_background": "light"
     },
     "output_type": "display_data"
    }
   ],
   "source": [
    "plt.figure(figsize=(16,6))\n",
    "plt.plot(train_data[:,0], train_labels, '.')\n",
    "plt.plot(train_data[:,0], train_answers, 'ob')\n",
    "plt.grid(True)"
   ]
  },
  {
   "cell_type": "code",
   "execution_count": 38,
   "id": "5ef3d070",
   "metadata": {
    "execution": {
     "iopub.execute_input": "2022-07-16T11:05:32.314642Z",
     "iopub.status.busy": "2022-07-16T11:05:32.313524Z",
     "iopub.status.idle": "2022-07-16T11:05:32.539009Z",
     "shell.execute_reply": "2022-07-16T11:05:32.537869Z"
    },
    "papermill": {
     "duration": 0.248777,
     "end_time": "2022-07-16T11:05:32.542095",
     "exception": false,
     "start_time": "2022-07-16T11:05:32.293318",
     "status": "completed"
    },
    "tags": []
   },
   "outputs": [
    {
     "data": {
      "image/png": "[encoded data removed]",
      "text/plain": [
       "<Figure size 1152x432 with 1 Axes>"
      ]
     },
     "metadata": {
      "needs_background": "light"
     },
     "output_type": "display_data"
    }
   ],
   "source": [
    "plt.figure(figsize=(16,6))\n",
    "plt.plot(test_data[:,0], test_labels, '.')\n",
    "plt.plot(test_data[:,0], answers, 'ob')\n",
    "plt.grid(True)"
   ]
  }
 ],
 "metadata": {
  "kernelspec": {
   "display_name": "Python 3",
   "language": "python",
   "name": "python3"
  },
  "language_info": {
   "codemirror_mode": {
    "name": "ipython",
    "version": 3
   },
   "file_extension": ".py",
   "mimetype": "text/x-python",
   "name": "python",
   "nbconvert_exporter": "python",
   "pygments_lexer": "ipython3",
   "version": "3.7.12"
  },
  "papermill": {
   "default_parameters": {},
   "duration": 38.323479,
   "end_time": "2022-07-16T11:05:33.292045",
   "environment_variables": {},
   "exception": null,
   "input_path": "__notebook__.ipynb",
   "output_path": "__notebook__.ipynb",
   "parameters": {},
   "start_time": "2022-07-16T11:04:54.968566",
   "version": "2.3.4"
  }
 },
 "nbformat": 4,
 "nbformat_minor": 5
}
