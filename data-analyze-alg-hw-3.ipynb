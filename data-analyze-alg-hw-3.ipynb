{
 "cells": [
  {
   "cell_type": "code",
   "execution_count": 1,
   "id": "082c600b",
   "metadata": {
    "_cell_guid": "b1076dfc-b9ad-4769-8c92-a6c4dae69d19",
    "_uuid": "8f2839f25d086af736a60e9eeb907d3b93b6e0e5",
    "execution": {
     "iopub.execute_input": "2022-07-13T11:51:47.001274Z",
     "iopub.status.busy": "2022-07-13T11:51:47.000278Z",
     "iopub.status.idle": "2022-07-13T11:51:47.011501Z",
     "shell.execute_reply": "2022-07-13T11:51:47.010734Z"
    },
    "papermill": {
     "duration": 0.024899,
     "end_time": "2022-07-13T11:51:47.013602",
     "exception": false,
     "start_time": "2022-07-13T11:51:46.988703",
     "status": "completed"
    },
    "tags": []
   },
   "outputs": [],
   "source": [
    "# This Python 3 environment comes with many helpful analytics libraries installed\n",
    "# It is defined by the kaggle/python Docker image: https://github.com/kaggle/docker-python\n",
    "# For example, here's several helpful packages to load\n",
    "\n",
    "import numpy as np # linear algebra\n",
    "import pandas as pd # data processing, CSV file I/O (e.g. pd.read_csv)\n",
    "\n",
    "# Input data files are available in the read-only \"../input/\" directory\n",
    "# For example, running this (by clicking run or pressing Shift+Enter) will list all files under the input directory\n",
    "\n",
    "import os\n",
    "for dirname, _, filenames in os.walk('/kaggle/input'):\n",
    "    for filename in filenames:\n",
    "        print(os.path.join(dirname, filename))\n",
    "\n",
    "# You can write up to 20GB to the current directory (/kaggle/working/) that gets preserved as output when you create a version using \"Save & Run All\" \n",
    "# You can also write temporary files to /kaggle/temp/, but they won't be saved outside of the current session"
   ]
  },
  {
   "cell_type": "markdown",
   "id": "48c4d0d6",
   "metadata": {
    "papermill": {
     "duration": 0.008784,
     "end_time": "2022-07-13T11:51:47.031108",
     "exception": false,
     "start_time": "2022-07-13T11:51:47.022324",
     "status": "completed"
    },
    "tags": []
   },
   "source": [
    "### Задание:\n",
    "\n",
    "1. Измените функцию calc_logloss так, чтобы нули по возможности не попадали в np.log.\n",
    "\n",
    "2. Подберите аргументы функции eval_model для логистической регрессии таким образом, чтобы log loss был минимальным.\n",
    "\n",
    "3. Создайте функцию calc_pred_proba, возвращающую предсказанную вероятность класса 1 (на вход подаются W, который уже посчитан функцией eval_model и X, на выходе - массив y_pred_proba).\n",
    "\n",
    "4. Создайте функцию calc_pred, возвращающую предсказанный класс (на вход подаются W, который уже посчитан функцией eval_model и X, на выходе - массив y_pred).\n",
    "\n",
    "5.* Реализуйте функции для подсчета Accuracy, матрицы ошибок, точности и полноты, а также F1 score."
   ]
  },
  {
   "cell_type": "code",
   "execution_count": 2,
   "id": "6e03d8d0",
   "metadata": {
    "execution": {
     "iopub.execute_input": "2022-07-13T11:51:47.049908Z",
     "iopub.status.busy": "2022-07-13T11:51:47.049248Z",
     "iopub.status.idle": "2022-07-13T11:51:48.131624Z",
     "shell.execute_reply": "2022-07-13T11:51:48.130355Z"
    },
    "papermill": {
     "duration": 1.095555,
     "end_time": "2022-07-13T11:51:48.134846",
     "exception": false,
     "start_time": "2022-07-13T11:51:47.039291",
     "status": "completed"
    },
    "tags": []
   },
   "outputs": [],
   "source": [
    "import numpy as np\n",
    "import matplotlib.pyplot as plt\n",
    "from sklearn.metrics import accuracy_score, confusion_matrix, recall_score, precision_score, f1_score"
   ]
  },
  {
   "cell_type": "code",
   "execution_count": 3,
   "id": "321f336d",
   "metadata": {
    "execution": {
     "iopub.execute_input": "2022-07-13T11:51:48.153574Z",
     "iopub.status.busy": "2022-07-13T11:51:48.153133Z",
     "iopub.status.idle": "2022-07-13T11:51:48.159373Z",
     "shell.execute_reply": "2022-07-13T11:51:48.158528Z"
    },
    "papermill": {
     "duration": 0.018301,
     "end_time": "2022-07-13T11:51:48.161609",
     "exception": false,
     "start_time": "2022-07-13T11:51:48.143308",
     "status": "completed"
    },
    "tags": []
   },
   "outputs": [],
   "source": [
    "X = np.array([[1, 1, 1, 1, 1, 1, 1, 1, 1, 1],\n",
    "              [1, 1, 2, 5, 3, 0, 5, 10, 1, 2],\n",
    "              [500, 700, 750, 600, 1450, 800, 1500, 2000, 450, 1000],\n",
    "              [1, 1, 2, 1, 2,  1, 3, 3, 1, 2]], dtype = np.float64)\n",
    "y = np.array([0, 0, 1, 0, 1, 0, 1, 0, 1, 1], dtype = np.float64)"
   ]
  },
  {
   "cell_type": "code",
   "execution_count": 4,
   "id": "505af32e",
   "metadata": {
    "execution": {
     "iopub.execute_input": "2022-07-13T11:51:48.180203Z",
     "iopub.status.busy": "2022-07-13T11:51:48.179862Z",
     "iopub.status.idle": "2022-07-13T11:51:48.189043Z",
     "shell.execute_reply": "2022-07-13T11:51:48.187995Z"
    },
    "papermill": {
     "duration": 0.021235,
     "end_time": "2022-07-13T11:51:48.191141",
     "exception": false,
     "start_time": "2022-07-13T11:51:48.169906",
     "status": "completed"
    },
    "tags": []
   },
   "outputs": [
    {
     "data": {
      "text/plain": [
       "array([[1.00e+00, 1.00e+00, 1.00e+00, 1.00e+00, 1.00e+00, 1.00e+00,\n",
       "        1.00e+00, 1.00e+00, 1.00e+00, 1.00e+00],\n",
       "       [1.00e+00, 1.00e+00, 2.00e+00, 5.00e+00, 3.00e+00, 0.00e+00,\n",
       "        5.00e+00, 1.00e+01, 1.00e+00, 2.00e+00],\n",
       "       [5.00e+02, 7.00e+02, 7.50e+02, 6.00e+02, 1.45e+03, 8.00e+02,\n",
       "        1.50e+03, 2.00e+03, 4.50e+02, 1.00e+03],\n",
       "       [1.00e+00, 1.00e+00, 2.00e+00, 1.00e+00, 2.00e+00, 1.00e+00,\n",
       "        3.00e+00, 3.00e+00, 1.00e+00, 2.00e+00]])"
      ]
     },
     "execution_count": 4,
     "metadata": {},
     "output_type": "execute_result"
    }
   ],
   "source": [
    "X"
   ]
  },
  {
   "cell_type": "code",
   "execution_count": 5,
   "id": "60b9f46c",
   "metadata": {
    "execution": {
     "iopub.execute_input": "2022-07-13T11:51:48.209474Z",
     "iopub.status.busy": "2022-07-13T11:51:48.208828Z",
     "iopub.status.idle": "2022-07-13T11:51:48.215005Z",
     "shell.execute_reply": "2022-07-13T11:51:48.214304Z"
    },
    "papermill": {
     "duration": 0.01731,
     "end_time": "2022-07-13T11:51:48.216886",
     "exception": false,
     "start_time": "2022-07-13T11:51:48.199576",
     "status": "completed"
    },
    "tags": []
   },
   "outputs": [
    {
     "data": {
      "text/plain": [
       "array([0., 0., 1., 0., 1., 0., 1., 0., 1., 1.])"
      ]
     },
     "execution_count": 5,
     "metadata": {},
     "output_type": "execute_result"
    }
   ],
   "source": [
    "y"
   ]
  },
  {
   "cell_type": "code",
   "execution_count": 6,
   "id": "a898d072",
   "metadata": {
    "execution": {
     "iopub.execute_input": "2022-07-13T11:51:48.235129Z",
     "iopub.status.busy": "2022-07-13T11:51:48.234573Z",
     "iopub.status.idle": "2022-07-13T11:51:48.239173Z",
     "shell.execute_reply": "2022-07-13T11:51:48.238507Z"
    },
    "papermill": {
     "duration": 0.015861,
     "end_time": "2022-07-13T11:51:48.240979",
     "exception": false,
     "start_time": "2022-07-13T11:51:48.225118",
     "status": "completed"
    },
    "tags": []
   },
   "outputs": [],
   "source": [
    "def standard_scale(x):\n",
    "    res = (x - x.mean()) / x.std()\n",
    "    return res"
   ]
  },
  {
   "cell_type": "code",
   "execution_count": 7,
   "id": "42a2aaf7",
   "metadata": {
    "execution": {
     "iopub.execute_input": "2022-07-13T11:51:48.259430Z",
     "iopub.status.busy": "2022-07-13T11:51:48.258853Z",
     "iopub.status.idle": "2022-07-13T11:51:48.265299Z",
     "shell.execute_reply": "2022-07-13T11:51:48.264577Z"
    },
    "papermill": {
     "duration": 0.018002,
     "end_time": "2022-07-13T11:51:48.267251",
     "exception": false,
     "start_time": "2022-07-13T11:51:48.249249",
     "status": "completed"
    },
    "tags": []
   },
   "outputs": [],
   "source": [
    "X_st = X.copy()\n",
    "X_st[2, :] = standard_scale(X[2, :])"
   ]
  },
  {
   "cell_type": "code",
   "execution_count": 8,
   "id": "6a9866d8",
   "metadata": {
    "execution": {
     "iopub.execute_input": "2022-07-13T11:51:48.285478Z",
     "iopub.status.busy": "2022-07-13T11:51:48.285105Z",
     "iopub.status.idle": "2022-07-13T11:51:48.291477Z",
     "shell.execute_reply": "2022-07-13T11:51:48.290474Z"
    },
    "papermill": {
     "duration": 0.018078,
     "end_time": "2022-07-13T11:51:48.293516",
     "exception": false,
     "start_time": "2022-07-13T11:51:48.275438",
     "status": "completed"
    },
    "tags": []
   },
   "outputs": [
    {
     "data": {
      "text/plain": [
       "array([[ 1.        ,  1.        ,  1.        ,  1.        ,  1.        ,\n",
       "         1.        ,  1.        ,  1.        ,  1.        ,  1.        ],\n",
       "       [ 1.        ,  1.        ,  2.        ,  5.        ,  3.        ,\n",
       "         0.        ,  5.        , 10.        ,  1.        ,  2.        ],\n",
       "       [-0.97958969, -0.56713087, -0.46401617, -0.77336028,  0.97958969,\n",
       "        -0.36090146,  1.08270439,  2.11385144, -1.08270439,  0.05155735],\n",
       "       [ 1.        ,  1.        ,  2.        ,  1.        ,  2.        ,\n",
       "         1.        ,  3.        ,  3.        ,  1.        ,  2.        ]])"
      ]
     },
     "execution_count": 8,
     "metadata": {},
     "output_type": "execute_result"
    }
   ],
   "source": [
    "X_st"
   ]
  },
  {
   "cell_type": "code",
   "execution_count": 9,
   "id": "6a9d14a0",
   "metadata": {
    "execution": {
     "iopub.execute_input": "2022-07-13T11:51:48.311713Z",
     "iopub.status.busy": "2022-07-13T11:51:48.311168Z",
     "iopub.status.idle": "2022-07-13T11:51:48.316787Z",
     "shell.execute_reply": "2022-07-13T11:51:48.316051Z"
    },
    "papermill": {
     "duration": 0.016972,
     "end_time": "2022-07-13T11:51:48.318661",
     "exception": false,
     "start_time": "2022-07-13T11:51:48.301689",
     "status": "completed"
    },
    "tags": []
   },
   "outputs": [],
   "source": [
    "def calc_logloss(y, y_pred):\n",
    "    y_pred_new = np.where(y_pred == 1, y_pred - 1e-7, np.where(y_pred == 0, y_pred + 1e+7, y_pred))\n",
    "    err = - np.mean(y * np.log(y_pred) + (1.0 - y) * np.log(1.0 - y_pred))  \n",
    "    err = np.sum(err)    \n",
    "    return err"
   ]
  },
  {
   "cell_type": "code",
   "execution_count": 10,
   "id": "a12a1135",
   "metadata": {
    "execution": {
     "iopub.execute_input": "2022-07-13T11:51:48.337191Z",
     "iopub.status.busy": "2022-07-13T11:51:48.336620Z",
     "iopub.status.idle": "2022-07-13T11:51:48.343431Z",
     "shell.execute_reply": "2022-07-13T11:51:48.342620Z"
    },
    "papermill": {
     "duration": 0.018399,
     "end_time": "2022-07-13T11:51:48.345254",
     "exception": false,
     "start_time": "2022-07-13T11:51:48.326855",
     "status": "completed"
    },
    "tags": []
   },
   "outputs": [
    {
     "data": {
      "text/plain": [
       "0.10536051565782628"
      ]
     },
     "execution_count": 10,
     "metadata": {},
     "output_type": "execute_result"
    }
   ],
   "source": [
    "#Применение: \n",
    "\n",
    "y1 = np.array([1, 0])\n",
    "y_pred1 = np.array([0.9, 0.1])\n",
    "calc_logloss(y1, y_pred1)"
   ]
  },
  {
   "cell_type": "code",
   "execution_count": 11,
   "id": "3f5d91d9",
   "metadata": {
    "execution": {
     "iopub.execute_input": "2022-07-13T11:51:48.364381Z",
     "iopub.status.busy": "2022-07-13T11:51:48.363822Z",
     "iopub.status.idle": "2022-07-13T11:51:48.368360Z",
     "shell.execute_reply": "2022-07-13T11:51:48.367689Z"
    },
    "papermill": {
     "duration": 0.016186,
     "end_time": "2022-07-13T11:51:48.370174",
     "exception": false,
     "start_time": "2022-07-13T11:51:48.353988",
     "status": "completed"
    },
    "tags": []
   },
   "outputs": [],
   "source": [
    "def sigmoid(z):\n",
    "    res = 1 / (1 + np.exp(-z))\n",
    "    return res"
   ]
  },
  {
   "cell_type": "code",
   "execution_count": 12,
   "id": "20a670cb",
   "metadata": {
    "execution": {
     "iopub.execute_input": "2022-07-13T11:51:48.388962Z",
     "iopub.status.busy": "2022-07-13T11:51:48.388238Z",
     "iopub.status.idle": "2022-07-13T11:51:48.393013Z",
     "shell.execute_reply": "2022-07-13T11:51:48.392331Z"
    },
    "papermill": {
     "duration": 0.016348,
     "end_time": "2022-07-13T11:51:48.394917",
     "exception": false,
     "start_time": "2022-07-13T11:51:48.378569",
     "status": "completed"
    },
    "tags": []
   },
   "outputs": [],
   "source": [
    "z = np.linspace(-10, 10, 101)"
   ]
  },
  {
   "cell_type": "code",
   "execution_count": 13,
   "id": "ef499ca1",
   "metadata": {
    "execution": {
     "iopub.execute_input": "2022-07-13T11:51:48.413622Z",
     "iopub.status.busy": "2022-07-13T11:51:48.412911Z",
     "iopub.status.idle": "2022-07-13T11:51:48.420392Z",
     "shell.execute_reply": "2022-07-13T11:51:48.419597Z"
    },
    "papermill": {
     "duration": 0.019128,
     "end_time": "2022-07-13T11:51:48.422368",
     "exception": false,
     "start_time": "2022-07-13T11:51:48.403240",
     "status": "completed"
    },
    "tags": []
   },
   "outputs": [
    {
     "data": {
      "text/plain": [
       "array([4.53978687e-05, 5.54485247e-05, 6.77241496e-05, 8.27172229e-05,\n",
       "       1.01029194e-04, 1.23394576e-04, 1.50710358e-04, 1.84071905e-04,\n",
       "       2.24816770e-04, 2.74578156e-04, 3.35350130e-04, 4.09567165e-04,\n",
       "       5.00201107e-04, 6.10879359e-04, 7.46028834e-04, 9.11051194e-04,\n",
       "       1.11253603e-03, 1.35851995e-03, 1.65880108e-03, 2.02532039e-03,\n",
       "       2.47262316e-03, 3.01841632e-03, 3.68423990e-03, 4.49627316e-03,\n",
       "       5.48629890e-03, 6.69285092e-03, 8.16257115e-03, 9.95180187e-03,\n",
       "       1.21284350e-02, 1.47740317e-02, 1.79862100e-02, 2.18812709e-02,\n",
       "       2.65969936e-02, 3.22954647e-02, 3.91657228e-02, 4.74258732e-02,\n",
       "       5.73241759e-02, 6.91384203e-02, 8.31726965e-02, 9.97504891e-02,\n",
       "       1.19202922e-01, 1.41851065e-01, 1.67981615e-01, 1.97816111e-01,\n",
       "       2.31475217e-01, 2.68941421e-01, 3.10025519e-01, 3.54343694e-01,\n",
       "       4.01312340e-01, 4.50166003e-01, 5.00000000e-01, 5.49833997e-01,\n",
       "       5.98687660e-01, 6.45656306e-01, 6.89974481e-01, 7.31058579e-01,\n",
       "       7.68524783e-01, 8.02183889e-01, 8.32018385e-01, 8.58148935e-01,\n",
       "       8.80797078e-01, 9.00249511e-01, 9.16827304e-01, 9.30861580e-01,\n",
       "       9.42675824e-01, 9.52574127e-01, 9.60834277e-01, 9.67704535e-01,\n",
       "       9.73403006e-01, 9.78118729e-01, 9.82013790e-01, 9.85225968e-01,\n",
       "       9.87871565e-01, 9.90048198e-01, 9.91837429e-01, 9.93307149e-01,\n",
       "       9.94513701e-01, 9.95503727e-01, 9.96315760e-01, 9.96981584e-01,\n",
       "       9.97527377e-01, 9.97974680e-01, 9.98341199e-01, 9.98641480e-01,\n",
       "       9.98887464e-01, 9.99088949e-01, 9.99253971e-01, 9.99389121e-01,\n",
       "       9.99499799e-01, 9.99590433e-01, 9.99664650e-01, 9.99725422e-01,\n",
       "       9.99775183e-01, 9.99815928e-01, 9.99849290e-01, 9.99876605e-01,\n",
       "       9.99898971e-01, 9.99917283e-01, 9.99932276e-01, 9.99944551e-01,\n",
       "       9.99954602e-01])"
      ]
     },
     "execution_count": 13,
     "metadata": {},
     "output_type": "execute_result"
    }
   ],
   "source": [
    "probabilities = sigmoid(z)\n",
    "probabilities"
   ]
  },
  {
   "cell_type": "code",
   "execution_count": 14,
   "id": "d4e6d611",
   "metadata": {
    "execution": {
     "iopub.execute_input": "2022-07-13T11:51:48.441630Z",
     "iopub.status.busy": "2022-07-13T11:51:48.440929Z",
     "iopub.status.idle": "2022-07-13T11:51:48.638919Z",
     "shell.execute_reply": "2022-07-13T11:51:48.637635Z"
    },
    "papermill": {
     "duration": 0.210195,
     "end_time": "2022-07-13T11:51:48.641261",
     "exception": false,
     "start_time": "2022-07-13T11:51:48.431066",
     "status": "completed"
    },
    "tags": []
   },
   "outputs": [
    {
     "data": {
      "image/png": "[encoded data removed]",
      "text/plain": [
       "<Figure size 432x288 with 1 Axes>"
      ]
     },
     "metadata": {
      "needs_background": "light"
     },
     "output_type": "display_data"
    }
   ],
   "source": [
    "plt.plot(z, probabilities)\n",
    "plt.show()"
   ]
  },
  {
   "cell_type": "markdown",
   "id": "9a382057",
   "metadata": {
    "papermill": {
     "duration": 0.009199,
     "end_time": "2022-07-13T11:51:48.659878",
     "exception": false,
     "start_time": "2022-07-13T11:51:48.650679",
     "status": "completed"
    },
    "tags": []
   },
   "source": [
    "2. Подберите аргументы функции eval_model для логистической регрессии таким образом, чтобы log loss был минимальным."
   ]
  },
  {
   "cell_type": "code",
   "execution_count": 15,
   "id": "f30d282c",
   "metadata": {
    "execution": {
     "iopub.execute_input": "2022-07-13T11:51:48.680663Z",
     "iopub.status.busy": "2022-07-13T11:51:48.679893Z",
     "iopub.status.idle": "2022-07-13T11:51:48.687900Z",
     "shell.execute_reply": "2022-07-13T11:51:48.686838Z"
    },
    "papermill": {
     "duration": 0.0213,
     "end_time": "2022-07-13T11:51:48.690191",
     "exception": false,
     "start_time": "2022-07-13T11:51:48.668891",
     "status": "completed"
    },
    "tags": []
   },
   "outputs": [],
   "source": [
    "def eval_model(X, y, iterations, alpha=1e-4):\n",
    "    np.random.seed(42)\n",
    "    W = np.random.randn(X.shape[0])\n",
    "    n = X.shape[1]\n",
    "    for i in range(1, iterations+1):\n",
    "        z = np.dot(W, X)\n",
    "        y_pred = sigmoid(z)\n",
    "        err = calc_logloss(y, y_pred)\n",
    "        W -= alpha * (1/n * np.dot((y_pred - y), X.T))\n",
    "        if i % (iterations / 10) == 0:\n",
    "            print(i, W, err)\n",
    "    return W"
   ]
  },
  {
   "cell_type": "code",
   "execution_count": 16,
   "id": "e79e2cb4",
   "metadata": {
    "execution": {
     "iopub.execute_input": "2022-07-13T11:51:48.710252Z",
     "iopub.status.busy": "2022-07-13T11:51:48.709560Z",
     "iopub.status.idle": "2022-07-13T11:51:48.718445Z",
     "shell.execute_reply": "2022-07-13T11:51:48.717665Z"
    },
    "papermill": {
     "duration": 0.02156,
     "end_time": "2022-07-13T11:51:48.720674",
     "exception": false,
     "start_time": "2022-07-13T11:51:48.699114",
     "status": "completed"
    },
    "tags": []
   },
   "outputs": [],
   "source": [
    "def eval_model_new(X, y, alpha=1e-4, min_error_dist=1e-5, outp_log=False):\n",
    "    np.random.seed(42)\n",
    "    W = np.random.randn(X.shape[0])\n",
    "    n = X.shape[1]\n",
    "    iter_num = 0\n",
    "    error_dist = np.inf\n",
    "    min_err = np.inf\n",
    "    errors = []\n",
    "    outp_index = 10**(-np.log10(min_error_dist)-2) if -np.log10(min_error_dist)-2>=1 else 1\n",
    "    while error_dist > min_error_dist:    \n",
    "        z = np.dot(W, X)\n",
    "        y_pred = sigmoid(z)\n",
    "        err = calc_logloss(y, y_pred)\n",
    "        errors.append(err)\n",
    "        error_dist = min_err - err\n",
    "        if error_dist > min_error_dist:\n",
    "            min_err = err\n",
    "        W -= alpha * (1/n * np.dot((y_pred - y), X.T))\n",
    "        iter_num += 1\n",
    "        if outp_log:\n",
    "            if iter_num % outp_index == 0:\n",
    "                print(iter_num, W, err)\n",
    "    if outp_log:\n",
    "        print(iter_num, W, err)\n",
    "    return W, min_err, iter_num\n"
   ]
  },
  {
   "cell_type": "code",
   "execution_count": 17,
   "id": "a4cae797",
   "metadata": {
    "execution": {
     "iopub.execute_input": "2022-07-13T11:51:48.741134Z",
     "iopub.status.busy": "2022-07-13T11:51:48.740381Z",
     "iopub.status.idle": "2022-07-13T11:51:48.974685Z",
     "shell.execute_reply": "2022-07-13T11:51:48.973131Z"
    },
    "papermill": {
     "duration": 0.248034,
     "end_time": "2022-07-13T11:51:48.977660",
     "exception": false,
     "start_time": "2022-07-13T11:51:48.729626",
     "status": "completed"
    },
    "tags": []
   },
   "outputs": [
    {
     "name": "stdout",
     "output_type": "stream",
     "text": [
      "500 [ 0.47822106 -0.20918419  0.64605995  1.49531432] 1.0559639161585663\n",
      "1000 [ 0.46074241 -0.27647603  0.64395686  1.46891696] 0.945214871179169\n",
      "1500 [ 0.44435675 -0.33951515  0.64152026  1.44406912] 0.8478360281905125\n",
      "2000 [ 0.42913461 -0.39751872  0.63899625  1.42106251] 0.7651177745022372\n",
      "2500 [ 0.41513888 -0.44956784  0.63671032  1.40023024] 0.6981293270105476\n",
      "3000 [ 0.40240136 -0.49488241  0.63498247  1.38184975] 0.6468813805442176\n",
      "3500 [ 0.39088925 -0.53321212  0.63401986  1.36601535] 0.6097021563515639\n",
      "4000 [ 0.38049869 -0.56497213  0.63387116  1.35259671] 0.5836774145473647\n",
      "4500 [ 0.37108342 -0.59102182  0.63446603  1.3413119 ] 0.5657147376221167\n",
      "5000 [ 0.36249064 -0.61234585  0.63568321  1.33183158] 0.5532737788236779\n"
     ]
    }
   ],
   "source": [
    "W = eval_model(X_st, y, iterations=5000, alpha=1e-4)"
   ]
  },
  {
   "cell_type": "code",
   "execution_count": 18,
   "id": "2395bf0a",
   "metadata": {
    "execution": {
     "iopub.execute_input": "2022-07-13T11:51:48.998263Z",
     "iopub.status.busy": "2022-07-13T11:51:48.997492Z",
     "iopub.status.idle": "2022-07-13T11:51:49.312227Z",
     "shell.execute_reply": "2022-07-13T11:51:49.311130Z"
    },
    "papermill": {
     "duration": 0.32721,
     "end_time": "2022-07-13T11:51:49.314320",
     "exception": false,
     "start_time": "2022-07-13T11:51:48.987110",
     "status": "completed"
    },
    "tags": []
   },
   "outputs": [
    {
     "name": "stdout",
     "output_type": "stream",
     "text": [
      "1000 [ 0.46074241 -0.27647603  0.64395686  1.46891696] 0.945214871179169\n",
      "2000 [ 0.42913461 -0.39751872  0.63899625  1.42106251] 0.7651177745022372\n",
      "3000 [ 0.40240136 -0.49488241  0.63498247  1.38184975] 0.6468813805442176\n",
      "4000 [ 0.38049869 -0.56497213  0.63387116  1.35259671] 0.5836774145473647\n",
      "5000 [ 0.36249064 -0.61234585  0.63568321  1.33183158] 0.5532737788236779\n",
      "6000 [ 0.34724493 -0.64428604  0.63950214  1.31709536] 0.5382699679862313\n",
      "6102 [ 0.34580919 -0.6469109   0.63997103  1.31584938] 0.537218051218537\n"
     ]
    }
   ],
   "source": [
    "W_new = eval_model_new(X_st, y, alpha=1e-4, outp_log=True)"
   ]
  },
  {
   "cell_type": "code",
   "execution_count": 19,
   "id": "d815b10d",
   "metadata": {
    "execution": {
     "iopub.execute_input": "2022-07-13T11:51:49.334068Z",
     "iopub.status.busy": "2022-07-13T11:51:49.333756Z",
     "iopub.status.idle": "2022-07-13T11:51:49.339654Z",
     "shell.execute_reply": "2022-07-13T11:51:49.338763Z"
    },
    "papermill": {
     "duration": 0.017879,
     "end_time": "2022-07-13T11:51:49.341577",
     "exception": false,
     "start_time": "2022-07-13T11:51:49.323698",
     "status": "completed"
    },
    "tags": []
   },
   "outputs": [],
   "source": [
    "def get_alpha(X, y, alphas):\n",
    "    alphas_list=[]\n",
    "    for alpha in alphas:\n",
    "        W,err,n_iter = eval_model_new(X, y, alpha=alpha)\n",
    "        alphas_list.append((alpha,err,n_iter))\n",
    "    alphas_list.sort(key=lambda x:x[1])\n",
    "    print(f'best - alpha: {alphas_list[0][0]},\\nresults:\\nerr: {alphas_list[0][1]},\\nn_iter: {alphas_list[0][2]}')\n",
    "    return alphas_list[0]"
   ]
  },
  {
   "cell_type": "code",
   "execution_count": 20,
   "id": "8dce6a32",
   "metadata": {
    "execution": {
     "iopub.execute_input": "2022-07-13T11:51:49.361097Z",
     "iopub.status.busy": "2022-07-13T11:51:49.360147Z",
     "iopub.status.idle": "2022-07-13T11:51:53.706222Z",
     "shell.execute_reply": "2022-07-13T11:51:53.704895Z"
    },
    "papermill": {
     "duration": 4.357956,
     "end_time": "2022-07-13T11:51:53.708372",
     "exception": false,
     "start_time": "2022-07-13T11:51:49.350416",
     "status": "completed"
    },
    "tags": []
   },
   "outputs": [
    {
     "name": "stdout",
     "output_type": "stream",
     "text": [
      "best - alpha: 0.5,\n",
      "results:\n",
      "err: 0.17451429964096335,\n",
      "n_iter: 5588\n"
     ]
    },
    {
     "data": {
      "text/plain": [
       "(0.5, 0.17451429964096335, 5588)"
      ]
     },
     "execution_count": 20,
     "metadata": {},
     "output_type": "execute_result"
    }
   ],
   "source": [
    "alphas=[\n",
    "    1, 0.5,0.1,0.05, 0.01, 0.005, 0.001, 0.0005, 0.0001, 0.00005, 0.00001, 0.000005, 0.000001, 0.0000005, 0.0000001\n",
    "]\n",
    "get_alpha(X_st, y, alphas)"
   ]
  },
  {
   "cell_type": "code",
   "execution_count": 21,
   "id": "c97fdf2e",
   "metadata": {
    "execution": {
     "iopub.execute_input": "2022-07-13T11:51:53.728702Z",
     "iopub.status.busy": "2022-07-13T11:51:53.728038Z",
     "iopub.status.idle": "2022-07-13T11:51:55.280785Z",
     "shell.execute_reply": "2022-07-13T11:51:55.279488Z"
    },
    "papermill": {
     "duration": 1.565071,
     "end_time": "2022-07-13T11:51:55.282907",
     "exception": false,
     "start_time": "2022-07-13T11:51:53.717836",
     "status": "completed"
    },
    "tags": []
   },
   "outputs": [
    {
     "name": "stdout",
     "output_type": "stream",
     "text": [
      "best - alpha: 0.6,\n",
      "results:\n",
      "err: 0.16583588446774866,\n",
      "n_iter: 5449\n"
     ]
    },
    {
     "data": {
      "text/plain": [
       "(0.6, 0.16583588446774866, 5449)"
      ]
     },
     "execution_count": 21,
     "metadata": {},
     "output_type": "execute_result"
    }
   ],
   "source": [
    "alphas=np.arange(1,10)/10\n",
    "get_alpha(X_st, y, alphas)"
   ]
  },
  {
   "cell_type": "code",
   "execution_count": 22,
   "id": "a5fc8962",
   "metadata": {
    "execution": {
     "iopub.execute_input": "2022-07-13T11:51:55.303431Z",
     "iopub.status.busy": "2022-07-13T11:51:55.303076Z",
     "iopub.status.idle": "2022-07-13T11:51:55.566288Z",
     "shell.execute_reply": "2022-07-13T11:51:55.565045Z"
    },
    "papermill": {
     "duration": 0.276221,
     "end_time": "2022-07-13T11:51:55.568604",
     "exception": false,
     "start_time": "2022-07-13T11:51:55.292383",
     "status": "completed"
    },
    "tags": []
   },
   "outputs": [
    {
     "name": "stdout",
     "output_type": "stream",
     "text": [
      "1000 [-8.22705654 -1.19179224 -1.63103389  7.14617725] 0.2597559875895107\n",
      "2000 [-11.81693228  -1.47202752  -2.74842535   9.99506855] 0.22216059780510222\n",
      "3000 [-14.60325068  -1.70958893  -3.58457685  12.24861365] 0.19942508537234377\n",
      "4000 [-16.96660182  -1.91673038  -4.28184084  14.16798183] 0.1830620510486846\n",
      "5000 [-19.03415014  -2.10036075  -4.88520289  15.84885732] 0.1705473305742658\n",
      "5449 [-19.88574828  -2.17646118  -5.13220561  16.54128089] 0.16582588601760145\n"
     ]
    }
   ],
   "source": [
    "W_new = eval_model_new(X_st, y, alpha=0.6, outp_log=True)"
   ]
  },
  {
   "cell_type": "markdown",
   "id": "5ec336a5",
   "metadata": {
    "papermill": {
     "duration": 0.009339,
     "end_time": "2022-07-13T11:51:55.587720",
     "exception": false,
     "start_time": "2022-07-13T11:51:55.578381",
     "status": "completed"
    },
    "tags": []
   },
   "source": [
    "3. Создайте функцию calc_pred_proba, возвращающую предсказанную вероятность класса 1 (на вход подаются W, который уже посчитан функцией eval_model и X, на выходе - массив y_pred_proba).\n",
    "\n"
   ]
  },
  {
   "cell_type": "code",
   "execution_count": 23,
   "id": "01757e66",
   "metadata": {
    "execution": {
     "iopub.execute_input": "2022-07-13T11:51:55.608557Z",
     "iopub.status.busy": "2022-07-13T11:51:55.608133Z",
     "iopub.status.idle": "2022-07-13T11:51:55.613737Z",
     "shell.execute_reply": "2022-07-13T11:51:55.612502Z"
    },
    "papermill": {
     "duration": 0.018377,
     "end_time": "2022-07-13T11:51:55.615747",
     "exception": false,
     "start_time": "2022-07-13T11:51:55.597370",
     "status": "completed"
    },
    "tags": []
   },
   "outputs": [],
   "source": [
    "def calc_pred_proba(w, x):\n",
    "    z = np.dot(w, x)\n",
    "    y_pred_proba = sigmoid(z)\n",
    "    return y_pred_proba"
   ]
  },
  {
   "cell_type": "code",
   "execution_count": 24,
   "id": "e3617f1a",
   "metadata": {
    "execution": {
     "iopub.execute_input": "2022-07-13T11:51:55.635948Z",
     "iopub.status.busy": "2022-07-13T11:51:55.635330Z",
     "iopub.status.idle": "2022-07-13T11:51:55.642474Z",
     "shell.execute_reply": "2022-07-13T11:51:55.641331Z"
    },
    "papermill": {
     "duration": 0.019429,
     "end_time": "2022-07-13T11:51:55.644402",
     "exception": false,
     "start_time": "2022-07-13T11:51:55.624973",
     "status": "completed"
    },
    "tags": []
   },
   "outputs": [
    {
     "data": {
      "text/plain": [
       "array([0.61284043, 0.67292861, 0.81854116, 0.13481741, 0.85958229,\n",
       "       0.81228146, 0.87916144, 0.39610207, 0.59717774, 0.86226561])"
      ]
     },
     "execution_count": 24,
     "metadata": {},
     "output_type": "execute_result"
    }
   ],
   "source": [
    "y_pred_prob = calc_pred_proba(W, X_st)\n",
    "y_pred_prob"
   ]
  },
  {
   "cell_type": "code",
   "execution_count": 25,
   "id": "fc0ae5b2",
   "metadata": {
    "execution": {
     "iopub.execute_input": "2022-07-13T11:51:55.665769Z",
     "iopub.status.busy": "2022-07-13T11:51:55.665405Z",
     "iopub.status.idle": "2022-07-13T11:51:55.671701Z",
     "shell.execute_reply": "2022-07-13T11:51:55.670903Z"
    },
    "papermill": {
     "duration": 0.019136,
     "end_time": "2022-07-13T11:51:55.673497",
     "exception": false,
     "start_time": "2022-07-13T11:51:55.654361",
     "status": "completed"
    },
    "tags": []
   },
   "outputs": [
    {
     "data": {
      "text/plain": [
       "array([3.79075791e-01, 6.84786993e-02, 9.99986668e-01, 3.50840343e-05,\n",
       "       8.37531436e-01, 1.83584725e-01, 9.99998324e-01, 5.33913207e-02,\n",
       "       5.08932298e-01, 9.99812077e-01])"
      ]
     },
     "execution_count": 25,
     "metadata": {},
     "output_type": "execute_result"
    }
   ],
   "source": [
    "y_pred_prob = calc_pred_proba(W_new[0], X_st)\n",
    "y_pred_prob"
   ]
  },
  {
   "cell_type": "markdown",
   "id": "e5069717",
   "metadata": {
    "papermill": {
     "duration": 0.009435,
     "end_time": "2022-07-13T11:51:55.693160",
     "exception": false,
     "start_time": "2022-07-13T11:51:55.683725",
     "status": "completed"
    },
    "tags": []
   },
   "source": [
    "4. Создайте функцию calc_pred, возвращающую предсказанный класс (на вход подаются W, который уже посчитан функцией eval_model и X, на выходе - массив y_pred)."
   ]
  },
  {
   "cell_type": "code",
   "execution_count": 26,
   "id": "21e41e8c",
   "metadata": {
    "execution": {
     "iopub.execute_input": "2022-07-13T11:51:55.713750Z",
     "iopub.status.busy": "2022-07-13T11:51:55.713374Z",
     "iopub.status.idle": "2022-07-13T11:51:55.719006Z",
     "shell.execute_reply": "2022-07-13T11:51:55.717965Z"
    },
    "papermill": {
     "duration": 0.01843,
     "end_time": "2022-07-13T11:51:55.721109",
     "exception": false,
     "start_time": "2022-07-13T11:51:55.702679",
     "status": "completed"
    },
    "tags": []
   },
   "outputs": [],
   "source": [
    "def calc_pred(W, X):\n",
    "    pred_proba = sigmoid(np.dot(W, X))\n",
    "    y_pred = np.zeros_like(pred_proba)\n",
    "    prob_lim = 0.5\n",
    "    for idx, prob in enumerate(pred_proba):\n",
    "        if prob > prob_lim:\n",
    "            y_pred[idx] = 1\n",
    "    return y_pred"
   ]
  },
  {
   "cell_type": "code",
   "execution_count": 27,
   "id": "df255f12",
   "metadata": {
    "execution": {
     "iopub.execute_input": "2022-07-13T11:51:55.742269Z",
     "iopub.status.busy": "2022-07-13T11:51:55.741942Z",
     "iopub.status.idle": "2022-07-13T11:51:55.749603Z",
     "shell.execute_reply": "2022-07-13T11:51:55.748860Z"
    },
    "papermill": {
     "duration": 0.020595,
     "end_time": "2022-07-13T11:51:55.751521",
     "exception": false,
     "start_time": "2022-07-13T11:51:55.730926",
     "status": "completed"
    },
    "tags": []
   },
   "outputs": [
    {
     "data": {
      "text/plain": [
       "array([1., 1., 1., 0., 1., 1., 1., 0., 1., 1.])"
      ]
     },
     "execution_count": 27,
     "metadata": {},
     "output_type": "execute_result"
    }
   ],
   "source": [
    "y_pred = calc_pred(W, X_st)\n",
    "y_pred"
   ]
  },
  {
   "cell_type": "code",
   "execution_count": 28,
   "id": "3c100270",
   "metadata": {
    "execution": {
     "iopub.execute_input": "2022-07-13T11:51:55.772115Z",
     "iopub.status.busy": "2022-07-13T11:51:55.771792Z",
     "iopub.status.idle": "2022-07-13T11:51:55.777724Z",
     "shell.execute_reply": "2022-07-13T11:51:55.776684Z"
    },
    "papermill": {
     "duration": 0.018621,
     "end_time": "2022-07-13T11:51:55.779805",
     "exception": false,
     "start_time": "2022-07-13T11:51:55.761184",
     "status": "completed"
    },
    "tags": []
   },
   "outputs": [
    {
     "data": {
      "text/plain": [
       "array([0., 0., 1., 0., 1., 0., 1., 0., 1., 1.])"
      ]
     },
     "execution_count": 28,
     "metadata": {},
     "output_type": "execute_result"
    }
   ],
   "source": [
    "y_pred = calc_pred(W_new[0], X_st)\n",
    "y_pred"
   ]
  },
  {
   "cell_type": "code",
   "execution_count": 29,
   "id": "5c491a49",
   "metadata": {
    "execution": {
     "iopub.execute_input": "2022-07-13T11:51:55.800634Z",
     "iopub.status.busy": "2022-07-13T11:51:55.800277Z",
     "iopub.status.idle": "2022-07-13T11:51:55.806141Z",
     "shell.execute_reply": "2022-07-13T11:51:55.805421Z"
    },
    "papermill": {
     "duration": 0.018469,
     "end_time": "2022-07-13T11:51:55.808026",
     "exception": false,
     "start_time": "2022-07-13T11:51:55.789557",
     "status": "completed"
    },
    "tags": []
   },
   "outputs": [
    {
     "data": {
      "text/plain": [
       "array([0., 0., 1., 0., 1., 0., 1., 0., 1., 1.])"
      ]
     },
     "execution_count": 29,
     "metadata": {},
     "output_type": "execute_result"
    }
   ],
   "source": [
    "y"
   ]
  },
  {
   "cell_type": "markdown",
   "id": "6deef7ab",
   "metadata": {
    "papermill": {
     "duration": 0.00949,
     "end_time": "2022-07-13T11:51:55.827510",
     "exception": false,
     "start_time": "2022-07-13T11:51:55.818020",
     "status": "completed"
    },
    "tags": []
   },
   "source": [
    "5*. Реализуйте функции для подсчета Accuracy, матрицы ошибок, точности и полноты, а также F1 score."
   ]
  },
  {
   "cell_type": "markdown",
   "id": "177c9571",
   "metadata": {
    "papermill": {
     "duration": 0.009627,
     "end_time": "2022-07-13T11:51:55.846705",
     "exception": false,
     "start_time": "2022-07-13T11:51:55.837078",
     "status": "completed"
    },
    "tags": []
   },
   "source": [
    "$$accuracy(a,x) = \\frac{1}{l} \\sum^{l}_{i=1}[a(x_{i})=y_{i}]$$"
   ]
  },
  {
   "cell_type": "code",
   "execution_count": 30,
   "id": "d472a326",
   "metadata": {
    "execution": {
     "iopub.execute_input": "2022-07-13T11:51:55.867386Z",
     "iopub.status.busy": "2022-07-13T11:51:55.867033Z",
     "iopub.status.idle": "2022-07-13T11:51:55.872353Z",
     "shell.execute_reply": "2022-07-13T11:51:55.871511Z"
    },
    "papermill": {
     "duration": 0.017981,
     "end_time": "2022-07-13T11:51:55.874262",
     "exception": false,
     "start_time": "2022-07-13T11:51:55.856281",
     "status": "completed"
    },
    "tags": []
   },
   "outputs": [],
   "source": [
    "def accuracy(y, y_pred):\n",
    "    l = len(y)\n",
    "    TP_TN = 0\n",
    "    for i in range(l):\n",
    "        TP_TN += int(y[i]==y_pred[i])\n",
    "    result = TP_TN / l\n",
    "    return result"
   ]
  },
  {
   "cell_type": "code",
   "execution_count": 31,
   "id": "0d35b6fe",
   "metadata": {
    "execution": {
     "iopub.execute_input": "2022-07-13T11:51:55.894826Z",
     "iopub.status.busy": "2022-07-13T11:51:55.894534Z",
     "iopub.status.idle": "2022-07-13T11:51:55.901302Z",
     "shell.execute_reply": "2022-07-13T11:51:55.900303Z"
    },
    "papermill": {
     "duration": 0.019208,
     "end_time": "2022-07-13T11:51:55.903165",
     "exception": false,
     "start_time": "2022-07-13T11:51:55.883957",
     "status": "completed"
    },
    "tags": []
   },
   "outputs": [
    {
     "data": {
      "text/plain": [
       "(1.0, 1.0)"
      ]
     },
     "execution_count": 31,
     "metadata": {},
     "output_type": "execute_result"
    }
   ],
   "source": [
    "accuracy_score(y, y_pred), accuracy(y, y_pred)"
   ]
  },
  {
   "cell_type": "code",
   "execution_count": 32,
   "id": "bd15a015",
   "metadata": {
    "execution": {
     "iopub.execute_input": "2022-07-13T11:51:55.924071Z",
     "iopub.status.busy": "2022-07-13T11:51:55.923777Z",
     "iopub.status.idle": "2022-07-13T11:51:55.929152Z",
     "shell.execute_reply": "2022-07-13T11:51:55.928237Z"
    },
    "papermill": {
     "duration": 0.018127,
     "end_time": "2022-07-13T11:51:55.931008",
     "exception": false,
     "start_time": "2022-07-13T11:51:55.912881",
     "status": "completed"
    },
    "tags": []
   },
   "outputs": [],
   "source": [
    "def mk_confusion_matrix(y, y_pred):\n",
    "    n_classes=len(np.unique(y))\n",
    "    l=len(y)\n",
    "    conf_matr=np.zeros((n_classes,n_classes), dtype='int')\n",
    "    for i in range(l):\n",
    "        conf_matr[int(y[i])][int(y_pred[i])] += 1\n",
    "    return conf_matr  "
   ]
  },
  {
   "cell_type": "code",
   "execution_count": 33,
   "id": "dca21e22",
   "metadata": {
    "execution": {
     "iopub.execute_input": "2022-07-13T11:51:55.952818Z",
     "iopub.status.busy": "2022-07-13T11:51:55.951445Z",
     "iopub.status.idle": "2022-07-13T11:51:55.962490Z",
     "shell.execute_reply": "2022-07-13T11:51:55.961381Z"
    },
    "papermill": {
     "duration": 0.024509,
     "end_time": "2022-07-13T11:51:55.965257",
     "exception": false,
     "start_time": "2022-07-13T11:51:55.940748",
     "status": "completed"
    },
    "tags": []
   },
   "outputs": [
    {
     "data": {
      "text/plain": [
       "(array([[5, 0],\n",
       "        [0, 5]]),\n",
       " array([[5, 0],\n",
       "        [0, 5]]))"
      ]
     },
     "execution_count": 33,
     "metadata": {},
     "output_type": "execute_result"
    }
   ],
   "source": [
    "confusion_matrix(y, y_pred), mk_confusion_matrix(y, y_pred)"
   ]
  },
  {
   "cell_type": "code",
   "execution_count": 34,
   "id": "57b5ce9f",
   "metadata": {
    "execution": {
     "iopub.execute_input": "2022-07-13T11:51:55.988946Z",
     "iopub.status.busy": "2022-07-13T11:51:55.987787Z",
     "iopub.status.idle": "2022-07-13T11:51:55.993344Z",
     "shell.execute_reply": "2022-07-13T11:51:55.992303Z"
    },
    "papermill": {
     "duration": 0.018866,
     "end_time": "2022-07-13T11:51:55.995260",
     "exception": false,
     "start_time": "2022-07-13T11:51:55.976394",
     "status": "completed"
    },
    "tags": []
   },
   "outputs": [],
   "source": [
    "def mk_precision(y, y_pred):\n",
    "    TN, FP, FN, TP = mk_confusion_matrix(y, y_pred).ravel()\n",
    "    return TP/(TP+FP)"
   ]
  },
  {
   "cell_type": "code",
   "execution_count": 35,
   "id": "94a42ade",
   "metadata": {
    "execution": {
     "iopub.execute_input": "2022-07-13T11:51:56.017602Z",
     "iopub.status.busy": "2022-07-13T11:51:56.017227Z",
     "iopub.status.idle": "2022-07-13T11:51:56.025319Z",
     "shell.execute_reply": "2022-07-13T11:51:56.024619Z"
    },
    "papermill": {
     "duration": 0.021593,
     "end_time": "2022-07-13T11:51:56.027310",
     "exception": false,
     "start_time": "2022-07-13T11:51:56.005717",
     "status": "completed"
    },
    "tags": []
   },
   "outputs": [
    {
     "data": {
      "text/plain": [
       "(1.0, 1.0)"
      ]
     },
     "execution_count": 35,
     "metadata": {},
     "output_type": "execute_result"
    }
   ],
   "source": [
    "precision_score(y, y_pred), mk_precision(y, y_pred)"
   ]
  },
  {
   "cell_type": "code",
   "execution_count": 36,
   "id": "a8dd8d9b",
   "metadata": {
    "execution": {
     "iopub.execute_input": "2022-07-13T11:51:56.050358Z",
     "iopub.status.busy": "2022-07-13T11:51:56.049393Z",
     "iopub.status.idle": "2022-07-13T11:51:56.053869Z",
     "shell.execute_reply": "2022-07-13T11:51:56.053177Z"
    },
    "papermill": {
     "duration": 0.017808,
     "end_time": "2022-07-13T11:51:56.055706",
     "exception": false,
     "start_time": "2022-07-13T11:51:56.037898",
     "status": "completed"
    },
    "tags": []
   },
   "outputs": [],
   "source": [
    "def mk_recall(y, y_pred):\n",
    "    TN, FP, FN, TP = mk_confusion_matrix(y, y_pred).ravel()\n",
    "    return TP/(TP+FN)"
   ]
  },
  {
   "cell_type": "code",
   "execution_count": 37,
   "id": "329822bf",
   "metadata": {
    "execution": {
     "iopub.execute_input": "2022-07-13T11:51:56.078655Z",
     "iopub.status.busy": "2022-07-13T11:51:56.077743Z",
     "iopub.status.idle": "2022-07-13T11:51:56.084577Z",
     "shell.execute_reply": "2022-07-13T11:51:56.083786Z"
    },
    "papermill": {
     "duration": 0.020239,
     "end_time": "2022-07-13T11:51:56.086386",
     "exception": false,
     "start_time": "2022-07-13T11:51:56.066147",
     "status": "completed"
    },
    "tags": []
   },
   "outputs": [
    {
     "data": {
      "text/plain": [
       "(1.0, 1.0)"
      ]
     },
     "execution_count": 37,
     "metadata": {},
     "output_type": "execute_result"
    }
   ],
   "source": [
    "recall_score(y, y_pred), mk_recall(y, y_pred)"
   ]
  },
  {
   "cell_type": "markdown",
   "id": "b554224f",
   "metadata": {
    "papermill": {
     "duration": 0.010162,
     "end_time": "2022-07-13T11:51:56.106605",
     "exception": false,
     "start_time": "2022-07-13T11:51:56.096443",
     "status": "completed"
    },
    "tags": []
   },
   "source": [
    "$$F_{\\beta} = (1 + \\beta^{2}) \\frac{precision \\cdot recall}{\\beta^{2} \\cdot precision + recall}$$"
   ]
  },
  {
   "cell_type": "code",
   "execution_count": 38,
   "id": "3416df32",
   "metadata": {
    "execution": {
     "iopub.execute_input": "2022-07-13T11:51:56.129561Z",
     "iopub.status.busy": "2022-07-13T11:51:56.128440Z",
     "iopub.status.idle": "2022-07-13T11:51:56.133574Z",
     "shell.execute_reply": "2022-07-13T11:51:56.132814Z"
    },
    "papermill": {
     "duration": 0.018772,
     "end_time": "2022-07-13T11:51:56.135563",
     "exception": false,
     "start_time": "2022-07-13T11:51:56.116791",
     "status": "completed"
    },
    "tags": []
   },
   "outputs": [],
   "source": [
    "def mk_f_score(y, y_pred, beta=1):\n",
    "    precision = mk_precision(y, y_pred)\n",
    "    recall = mk_recall(y, y_pred)\n",
    "    f_score = (1 + beta**2) * (precision * recall)/(beta**2 * precision + recall)\n",
    "    return f_score"
   ]
  },
  {
   "cell_type": "code",
   "execution_count": 39,
   "id": "0a850c66",
   "metadata": {
    "execution": {
     "iopub.execute_input": "2022-07-13T11:51:56.157052Z",
     "iopub.status.busy": "2022-07-13T11:51:56.156752Z",
     "iopub.status.idle": "2022-07-13T11:51:56.165049Z",
     "shell.execute_reply": "2022-07-13T11:51:56.164003Z"
    },
    "papermill": {
     "duration": 0.021175,
     "end_time": "2022-07-13T11:51:56.166827",
     "exception": false,
     "start_time": "2022-07-13T11:51:56.145652",
     "status": "completed"
    },
    "tags": []
   },
   "outputs": [
    {
     "data": {
      "text/plain": [
       "(1.0, 1.0)"
      ]
     },
     "execution_count": 39,
     "metadata": {},
     "output_type": "execute_result"
    }
   ],
   "source": [
    "f1_score(y, y_pred), mk_f_score(y, y_pred)"
   ]
  }
 ],
 "metadata": {
  "kernelspec": {
   "display_name": "Python 3",
   "language": "python",
   "name": "python3"
  },
  "language_info": {
   "codemirror_mode": {
    "name": "ipython",
    "version": 3
   },
   "file_extension": ".py",
   "mimetype": "text/x-python",
   "name": "python",
   "nbconvert_exporter": "python",
   "pygments_lexer": "ipython3",
   "version": "3.7.12"
  },
  "papermill": {
   "default_parameters": {},
   "duration": 18.619485,
   "end_time": "2022-07-13T11:51:56.797327",
   "environment_variables": {},
   "exception": null,
   "input_path": "__notebook__.ipynb",
   "output_path": "__notebook__.ipynb",
   "parameters": {},
   "start_time": "2022-07-13T11:51:38.177842",
   "version": "2.3.4"
  }
 },
 "nbformat": 4,
 "nbformat_minor": 5
}
