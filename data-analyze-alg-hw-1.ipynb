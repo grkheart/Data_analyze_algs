{
 "cells": [
  {
   "cell_type": "code",
   "execution_count": 1,
   "id": "609da94f",
   "metadata": {
    "_cell_guid": "b1076dfc-b9ad-4769-8c92-a6c4dae69d19",
    "_uuid": "8f2839f25d086af736a60e9eeb907d3b93b6e0e5",
    "execution": {
     "iopub.execute_input": "2022-07-06T10:16:04.533944Z",
     "iopub.status.busy": "2022-07-06T10:16:04.532555Z",
     "iopub.status.idle": "2022-07-06T10:16:04.549664Z",
     "shell.execute_reply": "2022-07-06T10:16:04.548707Z"
    },
    "papermill": {
     "duration": 0.025763,
     "end_time": "2022-07-06T10:16:04.552658",
     "exception": false,
     "start_time": "2022-07-06T10:16:04.526895",
     "status": "completed"
    },
    "tags": []
   },
   "outputs": [],
   "source": [
    "# This Python 3 environment comes with many helpful analytics libraries installed\n",
    "# It is defined by the kaggle/python Docker image: https://github.com/kaggle/docker-python\n",
    "# For example, here's several helpful packages to load\n",
    "\n",
    "import numpy as np # linear algebra\n",
    "import pandas as pd # data processing, CSV file I/O (e.g. pd.read_csv)\n",
    "\n",
    "# Input data files are available in the read-only \"../input/\" directory\n",
    "# For example, running this (by clicking run or pressing Shift+Enter) will list all files under the input directory\n",
    "\n",
    "import os\n",
    "for dirname, _, filenames in os.walk('/kaggle/input'):\n",
    "    for filename in filenames:\n",
    "        print(os.path.join(dirname, filename))\n",
    "\n",
    "# You can write up to 20GB to the current directory (/kaggle/working/) that gets preserved as output when you create a version using \"Save & Run All\" \n",
    "# You can also write temporary files to /kaggle/temp/, but they won't be saved outside of the current session"
   ]
  },
  {
   "cell_type": "markdown",
   "id": "4f705345",
   "metadata": {
    "papermill": {
     "duration": 0.002853,
     "end_time": "2022-07-06T10:16:04.558978",
     "exception": false,
     "start_time": "2022-07-06T10:16:04.556125",
     "status": "completed"
    },
    "tags": []
   },
   "source": [
    "### Задача №1"
   ]
  },
  {
   "cell_type": "markdown",
   "id": "cb2659a9",
   "metadata": {
    "papermill": {
     "duration": 0.002989,
     "end_time": "2022-07-06T10:16:04.565085",
     "exception": false,
     "start_time": "2022-07-06T10:16:04.562096",
     "status": "completed"
    },
    "tags": []
   },
   "source": [
    "#### Подберите скорость обучения (alpha) и количество итераций.\n"
   ]
  },
  {
   "cell_type": "code",
   "execution_count": 2,
   "id": "9908b716",
   "metadata": {
    "execution": {
     "iopub.execute_input": "2022-07-06T10:16:04.573641Z",
     "iopub.status.busy": "2022-07-06T10:16:04.572950Z",
     "iopub.status.idle": "2022-07-06T10:16:04.577043Z",
     "shell.execute_reply": "2022-07-06T10:16:04.576281Z"
    },
    "papermill": {
     "duration": 0.011286,
     "end_time": "2022-07-06T10:16:04.579477",
     "exception": false,
     "start_time": "2022-07-06T10:16:04.568191",
     "status": "completed"
    },
    "tags": []
   },
   "outputs": [],
   "source": [
    "import numpy as np\n",
    "import matplotlib.pyplot as plt"
   ]
  },
  {
   "cell_type": "code",
   "execution_count": 3,
   "id": "83b13b40",
   "metadata": {
    "execution": {
     "iopub.execute_input": "2022-07-06T10:16:04.587740Z",
     "iopub.status.busy": "2022-07-06T10:16:04.587357Z",
     "iopub.status.idle": "2022-07-06T10:16:04.593582Z",
     "shell.execute_reply": "2022-07-06T10:16:04.592622Z"
    },
    "papermill": {
     "duration": 0.012908,
     "end_time": "2022-07-06T10:16:04.595772",
     "exception": false,
     "start_time": "2022-07-06T10:16:04.582864",
     "status": "completed"
    },
    "tags": []
   },
   "outputs": [],
   "source": [
    "X = np.array([[ 1,  1],\n",
    "              [ 1,  1],\n",
    "              [ 1,  2],\n",
    "              [ 1,  5],\n",
    "              [ 1,  3],\n",
    "              [ 1,  0],\n",
    "              [ 1,  5],\n",
    "              [ 1, 10],\n",
    "              [ 1,  1],\n",
    "              [ 1,  2]])"
   ]
  },
  {
   "cell_type": "code",
   "execution_count": 4,
   "id": "75dc544d",
   "metadata": {
    "execution": {
     "iopub.execute_input": "2022-07-06T10:16:04.604706Z",
     "iopub.status.busy": "2022-07-06T10:16:04.603983Z",
     "iopub.status.idle": "2022-07-06T10:16:04.612123Z",
     "shell.execute_reply": "2022-07-06T10:16:04.611321Z"
    },
    "papermill": {
     "duration": 0.015252,
     "end_time": "2022-07-06T10:16:04.614270",
     "exception": false,
     "start_time": "2022-07-06T10:16:04.599018",
     "status": "completed"
    },
    "tags": []
   },
   "outputs": [
    {
     "data": {
      "text/plain": [
       "(10, 2)"
      ]
     },
     "execution_count": 4,
     "metadata": {},
     "output_type": "execute_result"
    }
   ],
   "source": [
    "X.shape"
   ]
  },
  {
   "cell_type": "code",
   "execution_count": 5,
   "id": "645089ff",
   "metadata": {
    "execution": {
     "iopub.execute_input": "2022-07-06T10:16:04.623261Z",
     "iopub.status.busy": "2022-07-06T10:16:04.622496Z",
     "iopub.status.idle": "2022-07-06T10:16:04.627148Z",
     "shell.execute_reply": "2022-07-06T10:16:04.626315Z"
    },
    "papermill": {
     "duration": 0.011835,
     "end_time": "2022-07-06T10:16:04.629455",
     "exception": false,
     "start_time": "2022-07-06T10:16:04.617620",
     "status": "completed"
    },
    "tags": []
   },
   "outputs": [],
   "source": [
    "y = [45, 55, 50, 55, 60, 35, 75, 80, 50, 60]"
   ]
  },
  {
   "cell_type": "code",
   "execution_count": 6,
   "id": "3fcf57e9",
   "metadata": {
    "execution": {
     "iopub.execute_input": "2022-07-06T10:16:04.639028Z",
     "iopub.status.busy": "2022-07-06T10:16:04.638295Z",
     "iopub.status.idle": "2022-07-06T10:16:04.663609Z",
     "shell.execute_reply": "2022-07-06T10:16:04.661280Z"
    },
    "papermill": {
     "duration": 0.033593,
     "end_time": "2022-07-06T10:16:04.666901",
     "exception": false,
     "start_time": "2022-07-06T10:16:04.633308",
     "status": "completed"
    },
    "tags": []
   },
   "outputs": [
    {
     "name": "stdout",
     "output_type": "stream",
     "text": [
      "Number of objects = 10        \n",
      "Learning rate = 0.1        \n",
      "Initial weights = [1.  0.5] \n",
      "\n",
      "Iteration #0: W_new = [11.8 38.2], MSE = 3047.75\n",
      "Iteration #10: W_new = [12651.73553914 69617.0969639 ], MSE = 18310954068.05\n",
      "Iteration #20: W_new = [ 7732434.81888022 42641607.3785219 ], MSE = 9128819654907584.0\n",
      "Iteration #30: W_new = [1.06344502e+09 5.86454589e+09], MSE = 2.327920364266852e+20\n",
      "Iteration #40: W_new = [3.00127077e+10 1.65510116e+11], MSE = 2.545133529815946e+23\n",
      "Iteration #50: W_new = [1.55345341e+11 8.56677968e+11], MSE = 9.572295620500115e+24\n",
      "Iteration #60: W_new = [1.27742291e+11 7.04456313e+11], MSE = 9.35148012647598e+24\n",
      "Iteration #70: W_new = [1.38141953e+10 7.61806995e+10], MSE = 1.6408589528283862e+23\n",
      "Iteration #80: W_new = [1.51674189e+08 8.36432543e+08], MSE = 3.1255335378744607e+19\n",
      "Iteration #90: W_new = [116395.49982335 641638.79865344], MSE = 31317286806394.33\n",
      "Iteration #100: W_new = [48.41962396 22.99884644], MSE = 53518.86\n",
      "Iteration #110: W_new = [44.97713118  3.82798845], MSE = 43.97\n",
      "Iteration #120: W_new = [44.99893245  3.82402699], MSE = 43.97\n",
      "Iteration #130: W_new = [45.01386326  3.82131952], MSE = 43.97\n",
      "Iteration #140: W_new = [45.0243589  3.8194163], MSE = 43.97\n"
     ]
    }
   ],
   "source": [
    "n = X.shape[0]\n",
    "\n",
    "eta = 1e-1 \n",
    "n_iter = 150\n",
    "\n",
    "W = np.array([1, 0.5])\n",
    "print(f'Number of objects = {n} \\\n",
    "       \\nLearning rate = {eta} \\\n",
    "       \\nInitial weights = {W} \\n')\n",
    "\n",
    "def calc_mse(y, y_pred):\n",
    "    err = np.mean((y - y_pred)**2)\n",
    "    return err\n",
    "\n",
    "for i in range(n_iter):\n",
    "    y_pred = np.dot(X, W)\n",
    "    err = calc_mse(y, y_pred)\n",
    "    for k in range(W.shape[0]):\n",
    "        W[k] -= eta * (1/n * 2 * X[:, k] @ (y_pred - y))\n",
    "    if i % 10 == 0:\n",
    "        eta /= 1.1\n",
    "        print(f'Iteration #{i}: W_new = {W}, MSE = {round(err, 2)}')"
   ]
  }
 ],
 "metadata": {
  "kernelspec": {
   "display_name": "Python 3",
   "language": "python",
   "name": "python3"
  },
  "language_info": {
   "codemirror_mode": {
    "name": "ipython",
    "version": 3
   },
   "file_extension": ".py",
   "mimetype": "text/x-python",
   "name": "python",
   "nbconvert_exporter": "python",
   "pygments_lexer": "ipython3",
   "version": "3.7.12"
  },
  "papermill": {
   "default_parameters": {},
   "duration": 11.765005,
   "end_time": "2022-07-06T10:16:05.392773",
   "environment_variables": {},
   "exception": null,
   "input_path": "__notebook__.ipynb",
   "output_path": "__notebook__.ipynb",
   "parameters": {},
   "start_time": "2022-07-06T10:15:53.627768",
   "version": "2.3.4"
  }
 },
 "nbformat": 4,
 "nbformat_minor": 5
}
