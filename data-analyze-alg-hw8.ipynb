{
 "cells": [
  {
   "cell_type": "code",
   "execution_count": 1,
   "id": "a1cf1f1a",
   "metadata": {
    "_cell_guid": "b1076dfc-b9ad-4769-8c92-a6c4dae69d19",
    "_uuid": "8f2839f25d086af736a60e9eeb907d3b93b6e0e5",
    "execution": {
     "iopub.execute_input": "2022-08-13T08:14:39.346077Z",
     "iopub.status.busy": "2022-08-13T08:14:39.345350Z",
     "iopub.status.idle": "2022-08-13T08:14:39.365619Z",
     "shell.execute_reply": "2022-08-13T08:14:39.364361Z"
    },
    "papermill": {
     "duration": 0.034321,
     "end_time": "2022-08-13T08:14:39.368958",
     "exception": false,
     "start_time": "2022-08-13T08:14:39.334637",
     "status": "completed"
    },
    "tags": []
   },
   "outputs": [],
   "source": [
    "# This Python 3 environment comes with many helpful analytics libraries installed\n",
    "# It is defined by the kaggle/python Docker image: https://github.com/kaggle/docker-python\n",
    "# For example, here's several helpful packages to load\n",
    "\n",
    "import numpy as np # linear algebra\n",
    "import pandas as pd # data processing, CSV file I/O (e.g. pd.read_csv)\n",
    "\n",
    "# Input data files are available in the read-only \"../input/\" directory\n",
    "# For example, running this (by clicking run or pressing Shift+Enter) will list all files under the input directory\n",
    "\n",
    "import os\n",
    "for dirname, _, filenames in os.walk('/kaggle/input'):\n",
    "    for filename in filenames:\n",
    "        print(os.path.join(dirname, filename))\n",
    "\n",
    "# You can write up to 20GB to the current directory (/kaggle/working/) that gets preserved as output when you create a version using \"Save & Run All\" \n",
    "# You can also write temporary files to /kaggle/temp/, but they won't be saved outside of the current session"
   ]
  },
  {
   "cell_type": "markdown",
   "id": "cbb58820",
   "metadata": {
    "papermill": {
     "duration": 0.006858,
     "end_time": "2022-08-13T08:14:39.382059",
     "exception": false,
     "start_time": "2022-08-13T08:14:39.375201",
     "status": "completed"
    },
    "tags": []
   },
   "source": [
    "### Задание\n",
    "\n",
    "**1.** Обучить любую модель классификации на датасете IRIS до применения самописного PCA (2 компоненты) и после него. Сравнить качество классификации по отложенной выборке.\n",
    "\n",
    "**2.** *Написать свою реализацию метода главных компонент с помощью сингулярного разложения с использованием функции numpy.linalg.svd()"
   ]
  },
  {
   "cell_type": "code",
   "execution_count": 2,
   "id": "580e077e",
   "metadata": {
    "execution": {
     "iopub.execute_input": "2022-08-13T08:14:39.399362Z",
     "iopub.status.busy": "2022-08-13T08:14:39.398838Z",
     "iopub.status.idle": "2022-08-13T08:14:40.766595Z",
     "shell.execute_reply": "2022-08-13T08:14:40.765168Z"
    },
    "papermill": {
     "duration": 1.380947,
     "end_time": "2022-08-13T08:14:40.769897",
     "exception": false,
     "start_time": "2022-08-13T08:14:39.388950",
     "status": "completed"
    },
    "tags": []
   },
   "outputs": [],
   "source": [
    "import numpy as np\n",
    "import matplotlib.pyplot as plt\n",
    "\n",
    "from sklearn.datasets import load_iris\n",
    "from sklearn import model_selection\n",
    "from sklearn.decomposition import PCA\n",
    "from matplotlib.colors import ListedColormap\n",
    "from sklearn.neighbors import KNeighborsClassifier\n",
    "\n",
    "%matplotlib inline"
   ]
  },
  {
   "cell_type": "code",
   "execution_count": 3,
   "id": "7daa7682",
   "metadata": {
    "execution": {
     "iopub.execute_input": "2022-08-13T08:14:40.783455Z",
     "iopub.status.busy": "2022-08-13T08:14:40.781985Z",
     "iopub.status.idle": "2022-08-13T08:14:40.798238Z",
     "shell.execute_reply": "2022-08-13T08:14:40.797095Z"
    },
    "papermill": {
     "duration": 0.025891,
     "end_time": "2022-08-13T08:14:40.801153",
     "exception": false,
     "start_time": "2022-08-13T08:14:40.775262",
     "status": "completed"
    },
    "tags": []
   },
   "outputs": [],
   "source": [
    "X, y = load_iris(return_X_y=True)\n",
    "\n",
    "X_train, X_test, y_train, y_test = model_selection.train_test_split(X, y, test_size = 0.2, random_state = 1)"
   ]
  },
  {
   "cell_type": "code",
   "execution_count": 4,
   "id": "84dd2fd8",
   "metadata": {
    "execution": {
     "iopub.execute_input": "2022-08-13T08:14:40.813907Z",
     "iopub.status.busy": "2022-08-13T08:14:40.813512Z",
     "iopub.status.idle": "2022-08-13T08:14:41.016159Z",
     "shell.execute_reply": "2022-08-13T08:14:41.015234Z"
    },
    "papermill": {
     "duration": 0.212321,
     "end_time": "2022-08-13T08:14:41.018877",
     "exception": false,
     "start_time": "2022-08-13T08:14:40.806556",
     "status": "completed"
    },
    "tags": []
   },
   "outputs": [
    {
     "data": {
      "text/plain": [
       "<matplotlib.collections.PathCollection at 0x7fc9d4b16950>"
      ]
     },
     "execution_count": 4,
     "metadata": {},
     "output_type": "execute_result"
    },
    {
     "data": {
      "image/png": "[encoded data removed]",
      "text/plain": [
       "<Figure size 504x504 with 1 Axes>"
      ]
     },
     "metadata": {
      "needs_background": "light"
     },
     "output_type": "display_data"
    }
   ],
   "source": [
    "cmap = ListedColormap(['red', 'green', 'blue'])\n",
    "plt.figure(figsize=(7, 7))\n",
    "plt.scatter(X[:, 0], X[:, 1], c=y, cmap=cmap)"
   ]
  },
  {
   "cell_type": "markdown",
   "id": "4de4aeb7",
   "metadata": {
    "papermill": {
     "duration": 0.005512,
     "end_time": "2022-08-13T08:14:41.030727",
     "exception": false,
     "start_time": "2022-08-13T08:14:41.025215",
     "status": "completed"
    },
    "tags": []
   },
   "source": [
    "#### Задание 2"
   ]
  },
  {
   "cell_type": "code",
   "execution_count": 5,
   "id": "60dc3f9e",
   "metadata": {
    "execution": {
     "iopub.execute_input": "2022-08-13T08:14:41.045840Z",
     "iopub.status.busy": "2022-08-13T08:14:41.044457Z",
     "iopub.status.idle": "2022-08-13T08:14:41.054242Z",
     "shell.execute_reply": "2022-08-13T08:14:41.052967Z"
    },
    "papermill": {
     "duration": 0.020462,
     "end_time": "2022-08-13T08:14:41.057330",
     "exception": false,
     "start_time": "2022-08-13T08:14:41.036868",
     "status": "completed"
    },
    "tags": []
   },
   "outputs": [],
   "source": [
    "# реализуем метод pca \n",
    "def my_pca(X, min_vector=5.0):\n",
    "    U, s, v = np.linalg.svd(X)\n",
    "\n",
    "    vectors = []\n",
    "    for i, eig_vector in enumerate(s):\n",
    "        if (eig_vector > min_vector):\n",
    "            vectors.append(eig_vector)\n",
    "    \n",
    "    n = len(vectors)\n",
    "   \n",
    "    Z = np.dot(U[:, :n], np.dot(np.diag(s[:n]), v[:n, :]))\n",
    "    \n",
    "    return Z"
   ]
  },
  {
   "cell_type": "markdown",
   "id": "df8d2122",
   "metadata": {
    "papermill": {
     "duration": 0.005486,
     "end_time": "2022-08-13T08:14:41.068701",
     "exception": false,
     "start_time": "2022-08-13T08:14:41.063215",
     "status": "completed"
    },
    "tags": []
   },
   "source": [
    "Возьмем реализацию метода knn с прошлого урока"
   ]
  },
  {
   "cell_type": "code",
   "execution_count": 6,
   "id": "9eadb2c7",
   "metadata": {
    "execution": {
     "iopub.execute_input": "2022-08-13T08:14:41.083116Z",
     "iopub.status.busy": "2022-08-13T08:14:41.082090Z",
     "iopub.status.idle": "2022-08-13T08:14:41.089190Z",
     "shell.execute_reply": "2022-08-13T08:14:41.088268Z"
    },
    "papermill": {
     "duration": 0.016797,
     "end_time": "2022-08-13T08:14:41.091430",
     "exception": false,
     "start_time": "2022-08-13T08:14:41.074633",
     "status": "completed"
    },
    "tags": []
   },
   "outputs": [],
   "source": [
    "def e_metrics(x1, x2):\n",
    "    \n",
    "    distance = 0\n",
    "    for i in range(len(x1)):\n",
    "        distance += np.square(x1[i] - x2[i])\n",
    "        #distance += np.abs(x1[i] - x2[i])\n",
    "    \n",
    "    return np.sqrt(distance)\n",
    "    #return (distance)"
   ]
  },
  {
   "cell_type": "code",
   "execution_count": 7,
   "id": "6de84d98",
   "metadata": {
    "execution": {
     "iopub.execute_input": "2022-08-13T08:14:41.105433Z",
     "iopub.status.busy": "2022-08-13T08:14:41.104711Z",
     "iopub.status.idle": "2022-08-13T08:14:41.112517Z",
     "shell.execute_reply": "2022-08-13T08:14:41.111504Z"
    },
    "papermill": {
     "duration": 0.017393,
     "end_time": "2022-08-13T08:14:41.114781",
     "exception": false,
     "start_time": "2022-08-13T08:14:41.097388",
     "status": "completed"
    },
    "tags": []
   },
   "outputs": [],
   "source": [
    "def knn(x_train, y_train, x_test, k):\n",
    "    \n",
    "    answers = []\n",
    "    for x in x_test:\n",
    "        test_distances = []\n",
    "        #print(len(answers))    \n",
    "        for i in range(len(x_train)):\n",
    "            \n",
    "            # расчет расстояния от классифицируемого объекта до\n",
    "            # объекта обучающей выборки\n",
    "            distance = e_metrics(x, x_train[i])\n",
    "            \n",
    "            # Записываем в список значение расстояния и ответа на объекте обучающей выборки\n",
    "            test_distances.append((distance, y_train[i]))\n",
    "        \n",
    "        # создаем словарь со всеми возможными классами\n",
    "        classes = {class_item: 0 for class_item in set(y_train)}\n",
    "        \n",
    "        # Сортируем список и среди первых k элементов подсчитаем частоту появления разных классов\n",
    "        for d in sorted(test_distances)[0:k]:\n",
    "            classes[d[1]] += 1\n",
    "            \n",
    "        # Записываем в список ответов наиболее часто встречающийся класс\n",
    "        answers.append(sorted(classes, key=classes.get)[-1])\n",
    "    return answers"
   ]
  },
  {
   "cell_type": "code",
   "execution_count": 8,
   "id": "07fcaac8",
   "metadata": {
    "execution": {
     "iopub.execute_input": "2022-08-13T08:14:41.128891Z",
     "iopub.status.busy": "2022-08-13T08:14:41.128216Z",
     "iopub.status.idle": "2022-08-13T08:14:41.133521Z",
     "shell.execute_reply": "2022-08-13T08:14:41.131952Z"
    },
    "papermill": {
     "duration": 0.015792,
     "end_time": "2022-08-13T08:14:41.136617",
     "exception": false,
     "start_time": "2022-08-13T08:14:41.120825",
     "status": "completed"
    },
    "tags": []
   },
   "outputs": [],
   "source": [
    "def accuracy(pred, y):\n",
    "    return (sum(pred == y) / len(y))"
   ]
  },
  {
   "cell_type": "code",
   "execution_count": 9,
   "id": "9880c6b0",
   "metadata": {
    "execution": {
     "iopub.execute_input": "2022-08-13T08:14:41.156281Z",
     "iopub.status.busy": "2022-08-13T08:14:41.155254Z",
     "iopub.status.idle": "2022-08-13T08:14:41.167325Z",
     "shell.execute_reply": "2022-08-13T08:14:41.166354Z"
    },
    "papermill": {
     "duration": 0.024034,
     "end_time": "2022-08-13T08:14:41.169885",
     "exception": false,
     "start_time": "2022-08-13T08:14:41.145851",
     "status": "completed"
    },
    "tags": []
   },
   "outputs": [],
   "source": [
    "def get_graph(X_train, y_train, k):\n",
    "    cmap_light = ListedColormap(['#FFAAAA', '#AAFFAA','#00AAFF'])\n",
    "\n",
    "    h = .2\n",
    "\n",
    "    # Расчет пределов графика\n",
    "    x_min, x_max = X_train[:, 0].min() - 1, X_train[:, 0].max() + 1\n",
    "    y_min, y_max = X_train[:, 1].min() - 1, X_train[:, 1].max() + 1\n",
    "    xx, yy = np.meshgrid(np.arange(x_min, x_max, h), np.arange(y_min, y_max, h))\n",
    "\n",
    "    # Получим предсказания для всех точек\n",
    "    Z = knn(X_train, y_train, np.c_[xx.ravel(), yy.ravel()], k)\n",
    "\n",
    "    # Построим график\n",
    "    Z = np.array(Z).reshape(xx.shape)\n",
    "    plt.figure(figsize=(7,7))\n",
    "    plt.pcolormesh(xx, yy, Z, cmap=cmap_light)\n",
    "\n",
    "    # Добавим на график обучающую выборку\n",
    "    plt.scatter(X_train[:, 0], X_train[:, 1], c=y_train, cmap=cmap)\n",
    "    plt.xlim(xx.min(), xx.max())\n",
    "    plt.ylim(yy.min(), yy.max())\n",
    "    plt.title(f\"Трехклассовая kNN классификация при k = {k}\")\n",
    "    plt.show()"
   ]
  },
  {
   "cell_type": "code",
   "execution_count": 10,
   "id": "d59904e4",
   "metadata": {
    "execution": {
     "iopub.execute_input": "2022-08-13T08:14:41.189168Z",
     "iopub.status.busy": "2022-08-13T08:14:41.188344Z",
     "iopub.status.idle": "2022-08-13T08:14:41.264977Z",
     "shell.execute_reply": "2022-08-13T08:14:41.262945Z"
    },
    "papermill": {
     "duration": 0.09013,
     "end_time": "2022-08-13T08:14:41.267817",
     "exception": false,
     "start_time": "2022-08-13T08:14:41.177687",
     "status": "completed"
    },
    "tags": []
   },
   "outputs": [
    {
     "name": "stdout",
     "output_type": "stream",
     "text": [
      "Точность алгоритма при k = 28: 0.96667\n"
     ]
    }
   ],
   "source": [
    "k = 28\n",
    "\n",
    "y_pred = knn(X_train, y_train, X_test, k)\n",
    "\n",
    "print(f'Точность алгоритма при k = {k}: {accuracy(y_pred, y_test):.5f}')"
   ]
  },
  {
   "cell_type": "code",
   "execution_count": 11,
   "id": "5ece866e",
   "metadata": {
    "execution": {
     "iopub.execute_input": "2022-08-13T08:14:41.282399Z",
     "iopub.status.busy": "2022-08-13T08:14:41.281826Z",
     "iopub.status.idle": "2022-08-13T08:14:42.004402Z",
     "shell.execute_reply": "2022-08-13T08:14:42.003071Z"
    },
    "papermill": {
     "duration": 0.733212,
     "end_time": "2022-08-13T08:14:42.007299",
     "exception": false,
     "start_time": "2022-08-13T08:14:41.274087",
     "status": "completed"
    },
    "tags": []
   },
   "outputs": [
    {
     "data": {
      "image/png": "[encoded data removed]",
      "text/plain": [
       "<Figure size 504x504 with 1 Axes>"
      ]
     },
     "metadata": {
      "needs_background": "light"
     },
     "output_type": "display_data"
    }
   ],
   "source": [
    "get_graph(X_train, y_train, k)"
   ]
  },
  {
   "cell_type": "code",
   "execution_count": 12,
   "id": "8475f20e",
   "metadata": {
    "execution": {
     "iopub.execute_input": "2022-08-13T08:14:42.023909Z",
     "iopub.status.busy": "2022-08-13T08:14:42.022642Z",
     "iopub.status.idle": "2022-08-13T08:14:42.045131Z",
     "shell.execute_reply": "2022-08-13T08:14:42.043228Z"
    },
    "papermill": {
     "duration": 0.035941,
     "end_time": "2022-08-13T08:14:42.050436",
     "exception": false,
     "start_time": "2022-08-13T08:14:42.014495",
     "status": "completed"
    },
    "tags": []
   },
   "outputs": [],
   "source": [
    "X_train_mypca = my_pca(X_train)\n",
    "X_test_mypca = my_pca(X_test)"
   ]
  },
  {
   "cell_type": "code",
   "execution_count": 13,
   "id": "85a8b516",
   "metadata": {
    "execution": {
     "iopub.execute_input": "2022-08-13T08:14:42.086531Z",
     "iopub.status.busy": "2022-08-13T08:14:42.085738Z",
     "iopub.status.idle": "2022-08-13T08:14:42.184800Z",
     "shell.execute_reply": "2022-08-13T08:14:42.183779Z"
    },
    "papermill": {
     "duration": 0.120174,
     "end_time": "2022-08-13T08:14:42.187754",
     "exception": false,
     "start_time": "2022-08-13T08:14:42.067580",
     "status": "completed"
    },
    "tags": []
   },
   "outputs": [],
   "source": [
    "y_pred_pca = knn(X_train_mypca, y_train, X_test_mypca, k)"
   ]
  },
  {
   "cell_type": "code",
   "execution_count": 14,
   "id": "3acefa9e",
   "metadata": {
    "execution": {
     "iopub.execute_input": "2022-08-13T08:14:42.203878Z",
     "iopub.status.busy": "2022-08-13T08:14:42.202573Z",
     "iopub.status.idle": "2022-08-13T08:14:42.210971Z",
     "shell.execute_reply": "2022-08-13T08:14:42.209510Z"
    },
    "papermill": {
     "duration": 0.019513,
     "end_time": "2022-08-13T08:14:42.213932",
     "exception": false,
     "start_time": "2022-08-13T08:14:42.194419",
     "status": "completed"
    },
    "tags": []
   },
   "outputs": [
    {
     "name": "stdout",
     "output_type": "stream",
     "text": [
      "Точность алгоритма при k = 28: 0.96667\n"
     ]
    }
   ],
   "source": [
    "print(f'Точность алгоритма при k = {k}: {accuracy(y_pred_pca, y_test):.5f}')"
   ]
  },
  {
   "cell_type": "code",
   "execution_count": 15,
   "id": "b3a48b5f",
   "metadata": {
    "execution": {
     "iopub.execute_input": "2022-08-13T08:14:42.229723Z",
     "iopub.status.busy": "2022-08-13T08:14:42.229238Z",
     "iopub.status.idle": "2022-08-13T08:14:42.911604Z",
     "shell.execute_reply": "2022-08-13T08:14:42.910275Z"
    },
    "papermill": {
     "duration": 0.694738,
     "end_time": "2022-08-13T08:14:42.915446",
     "exception": false,
     "start_time": "2022-08-13T08:14:42.220708",
     "status": "completed"
    },
    "tags": []
   },
   "outputs": [
    {
     "data": {
      "image/png": "[encoded data removed]",
      "text/plain": [
       "<Figure size 504x504 with 1 Axes>"
      ]
     },
     "metadata": {
      "needs_background": "light"
     },
     "output_type": "display_data"
    }
   ],
   "source": [
    "get_graph(X_train_mypca, y_train, k)"
   ]
  },
  {
   "cell_type": "markdown",
   "id": "ddfe7182",
   "metadata": {
    "papermill": {
     "duration": 0.006616,
     "end_time": "2022-08-13T08:14:42.929700",
     "exception": false,
     "start_time": "2022-08-13T08:14:42.923084",
     "status": "completed"
    },
    "tags": []
   },
   "source": [
    "В нашем случае метод pca не оказал большого влияни на точность модели. На графике видно изменния в пространстве данных, что можно использовать для улучшения качества модели."
   ]
  }
 ],
 "metadata": {
  "kernelspec": {
   "display_name": "Python 3",
   "language": "python",
   "name": "python3"
  },
  "language_info": {
   "codemirror_mode": {
    "name": "ipython",
    "version": 3
   },
   "file_extension": ".py",
   "mimetype": "text/x-python",
   "name": "python",
   "nbconvert_exporter": "python",
   "pygments_lexer": "ipython3",
   "version": "3.7.12"
  },
  "papermill": {
   "default_parameters": {},
   "duration": 13.37587,
   "end_time": "2022-08-13T08:14:43.759323",
   "environment_variables": {},
   "exception": null,
   "input_path": "__notebook__.ipynb",
   "output_path": "__notebook__.ipynb",
   "parameters": {},
   "start_time": "2022-08-13T08:14:30.383453",
   "version": "2.3.4"
  }
 },
 "nbformat": 4,
 "nbformat_minor": 5
}
